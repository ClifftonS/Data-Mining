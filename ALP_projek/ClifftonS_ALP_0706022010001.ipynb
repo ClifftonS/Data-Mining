{
 "cells": [
  {
   "cell_type": "markdown",
   "id": "901f5f0f",
   "metadata": {},
   "source": [
    "## Nama/NIM : Cliffton Soenarto/0706022010001"
   ]
  },
  {
   "cell_type": "markdown",
   "id": "1ddd9d5f",
   "metadata": {},
   "source": [
    "### Latar Belakang"
   ]
  },
  {
   "cell_type": "markdown",
   "id": "d5a90d72",
   "metadata": {},
   "source": [
    "Dataset ini merupakan kumpulan data dari pasien kelenjar getah bening. Dataset berikut telah disediakan untuk kedepannya akan diterapi karena dataset yang digunakan masih belum sempurna. Berikut adalah rincian tabel-tabel yang ada pada dataset:"
   ]
  },
  {
   "cell_type": "markdown",
   "id": "bed1325d",
   "metadata": {},
   "source": [
    "Gender: Jenis kelamin "
   ]
  },
  {
   "cell_type": "markdown",
   "id": "3865b078",
   "metadata": {},
   "source": [
    "Age: Umur"
   ]
  },
  {
   "cell_type": "markdown",
   "id": "4a716444",
   "metadata": {},
   "source": [
    "Time: Waktu perawatan"
   ]
  },
  {
   "cell_type": "markdown",
   "id": "608f14c6",
   "metadata": {},
   "source": [
    "Number of Warts: Jumlah benjolan"
   ]
  },
  {
   "cell_type": "markdown",
   "id": "37458b40",
   "metadata": {},
   "source": [
    "Type: Tipe benjolan"
   ]
  },
  {
   "cell_type": "markdown",
   "id": "89d99011",
   "metadata": {},
   "source": [
    "Area: Luas benjolan"
   ]
  },
  {
   "cell_type": "markdown",
   "id": "5ebc4496",
   "metadata": {},
   "source": [
    "Induration Diameter: Diameter benjolan"
   ]
  },
  {
   "cell_type": "markdown",
   "id": "d92f0207",
   "metadata": {},
   "source": [
    "Result of Treatment: Hasil perawatan (0 jika tidak ada kemajuan, 1 jika ada kemajuan)"
   ]
  },
  {
   "cell_type": "markdown",
   "id": "f71ace92",
   "metadata": {},
   "source": [
    "### Import Library"
   ]
  },
  {
   "cell_type": "markdown",
   "id": "e7bab7df",
   "metadata": {},
   "source": [
    "Pertama, yang akan dilakukan adalah memuat library yang akan digunakan."
   ]
  },
  {
   "cell_type": "code",
   "execution_count": 1,
   "id": "817ed6ae",
   "metadata": {},
   "outputs": [],
   "source": [
    "import numpy as np\n",
    "import matplotlib.pyplot as plt\n",
    "import pandas as pd\n",
    "import seaborn as sns\n",
    "from sklearn.model_selection import train_test_split\n",
    "from sklearn import metrics\n",
    "from sklearn.neighbors import KNeighborsClassifier\n",
    "from sklearn.preprocessing import StandardScaler\n",
    "from sklearn.metrics import mean_squared_error\n",
    "from sklearn.metrics import confusion_matrix, accuracy_score\n",
    "import seaborn\n",
    "import statistics\n",
    "from sklearn.linear_model import LinearRegression\n",
    "from imblearn.over_sampling import SMOTE\n",
    "from sklearn.metrics import mean_absolute_percentage_error\n",
    "from scipy.stats import norm\n",
    "from sklearn.cluster import KMeans\n",
    "from kneed import KneeLocator"
   ]
  },
  {
   "cell_type": "markdown",
   "id": "83444698",
   "metadata": {},
   "source": [
    "### Load Dataset"
   ]
  },
  {
   "cell_type": "markdown",
   "id": "ab901077",
   "metadata": {},
   "source": [
    "Kemudian muat dataset yang akan digunakan."
   ]
  },
  {
   "cell_type": "code",
   "execution_count": 2,
   "id": "d12119c8",
   "metadata": {},
   "outputs": [
    {
     "data": {
      "text/html": [
       "<div>\n",
       "<style scoped>\n",
       "    .dataframe tbody tr th:only-of-type {\n",
       "        vertical-align: middle;\n",
       "    }\n",
       "\n",
       "    .dataframe tbody tr th {\n",
       "        vertical-align: top;\n",
       "    }\n",
       "\n",
       "    .dataframe thead th {\n",
       "        text-align: right;\n",
       "    }\n",
       "</style>\n",
       "<table border=\"1\" class=\"dataframe\">\n",
       "  <thead>\n",
       "    <tr style=\"text-align: right;\">\n",
       "      <th></th>\n",
       "      <th>gender</th>\n",
       "      <th>age</th>\n",
       "      <th>Time</th>\n",
       "      <th>Number_of_Warts</th>\n",
       "      <th>Type</th>\n",
       "      <th>Area</th>\n",
       "      <th>induration_diameter</th>\n",
       "      <th>Result_of_Treatment</th>\n",
       "    </tr>\n",
       "  </thead>\n",
       "  <tbody>\n",
       "    <tr>\n",
       "      <th>0</th>\n",
       "      <td>1</td>\n",
       "      <td>15</td>\n",
       "      <td>11.00</td>\n",
       "      <td>6.0</td>\n",
       "      <td>1.0</td>\n",
       "      <td>30</td>\n",
       "      <td>25.0</td>\n",
       "      <td>0</td>\n",
       "    </tr>\n",
       "    <tr>\n",
       "      <th>1</th>\n",
       "      <td>1</td>\n",
       "      <td>27</td>\n",
       "      <td>11.75</td>\n",
       "      <td>NaN</td>\n",
       "      <td>1.0</td>\n",
       "      <td>208</td>\n",
       "      <td>6.0</td>\n",
       "      <td>0</td>\n",
       "    </tr>\n",
       "    <tr>\n",
       "      <th>2</th>\n",
       "      <td>1</td>\n",
       "      <td>32</td>\n",
       "      <td>12.00</td>\n",
       "      <td>9.0</td>\n",
       "      <td>1.0</td>\n",
       "      <td>43</td>\n",
       "      <td>50.0</td>\n",
       "      <td>0</td>\n",
       "    </tr>\n",
       "    <tr>\n",
       "      <th>3</th>\n",
       "      <td>1</td>\n",
       "      <td>33</td>\n",
       "      <td>1.75</td>\n",
       "      <td>7.0</td>\n",
       "      <td>2.0</td>\n",
       "      <td>379</td>\n",
       "      <td>7.0</td>\n",
       "      <td>0</td>\n",
       "    </tr>\n",
       "    <tr>\n",
       "      <th>4</th>\n",
       "      <td>1</td>\n",
       "      <td>34</td>\n",
       "      <td>5.00</td>\n",
       "      <td>7.0</td>\n",
       "      <td>3.0</td>\n",
       "      <td>64</td>\n",
       "      <td>7.0</td>\n",
       "      <td>0</td>\n",
       "    </tr>\n",
       "  </tbody>\n",
       "</table>\n",
       "</div>"
      ],
      "text/plain": [
       "   gender  age   Time  Number_of_Warts  Type  Area  induration_diameter  \\\n",
       "0       1   15  11.00              6.0   1.0    30                 25.0   \n",
       "1       1   27  11.75              NaN   1.0   208                  6.0   \n",
       "2       1   32  12.00              9.0   1.0    43                 50.0   \n",
       "3       1   33   1.75              7.0   2.0   379                  7.0   \n",
       "4       1   34   5.00              7.0   3.0    64                  7.0   \n",
       "\n",
       "   Result_of_Treatment  \n",
       "0                    0  \n",
       "1                    0  \n",
       "2                    0  \n",
       "3                    0  \n",
       "4                    0  "
      ]
     },
     "execution_count": 2,
     "metadata": {},
     "output_type": "execute_result"
    }
   ],
   "source": [
    "df = pd.read_csv(\"https://raw.githubusercontent.com/ClifftonS/Data-Mining/main/ALP_projek/Dataset_Terapi_Kelenjar_Getah_Bening.csv\")\n",
    "df.head()"
   ]
  },
  {
   "cell_type": "markdown",
   "id": "3ad9c698",
   "metadata": {},
   "source": [
    "### EDA"
   ]
  },
  {
   "cell_type": "markdown",
   "id": "b7a69e19",
   "metadata": {},
   "source": [
    "Exploratory Data Analysis atau disingkat EDA berfungsi untuk memahami dataset secara lebih lanjut."
   ]
  },
  {
   "cell_type": "markdown",
   "id": "27079aed",
   "metadata": {},
   "source": [
    "Kita juga harus memastikan bahwa data kita bersih (tidak memiliki nilai null, duplikat, dll) dan juga untuk mengetahui kolom apa saja yang tersedia pada dataset, jumlah data, dan tipe datanya."
   ]
  },
  {
   "cell_type": "code",
   "execution_count": 3,
   "id": "e89c6745",
   "metadata": {},
   "outputs": [
    {
     "name": "stdout",
     "output_type": "stream",
     "text": [
      "<class 'pandas.core.frame.DataFrame'>\n",
      "RangeIndex: 90 entries, 0 to 89\n",
      "Data columns (total 8 columns):\n",
      " #   Column               Non-Null Count  Dtype  \n",
      "---  ------               --------------  -----  \n",
      " 0   gender               90 non-null     int64  \n",
      " 1   age                  90 non-null     int64  \n",
      " 2   Time                 87 non-null     float64\n",
      " 3   Number_of_Warts      89 non-null     float64\n",
      " 4   Type                 85 non-null     float64\n",
      " 5   Area                 90 non-null     int64  \n",
      " 6   induration_diameter  88 non-null     float64\n",
      " 7   Result_of_Treatment  90 non-null     int64  \n",
      "dtypes: float64(4), int64(4)\n",
      "memory usage: 5.8 KB\n"
     ]
    }
   ],
   "source": [
    "df.info()"
   ]
  },
  {
   "cell_type": "code",
   "execution_count": 4,
   "id": "31a281d1",
   "metadata": {},
   "outputs": [
    {
     "data": {
      "text/plain": [
       "0"
      ]
     },
     "execution_count": 4,
     "metadata": {},
     "output_type": "execute_result"
    }
   ],
   "source": [
    "df.duplicated().sum()"
   ]
  },
  {
   "cell_type": "code",
   "execution_count": 5,
   "id": "94c94188",
   "metadata": {},
   "outputs": [
    {
     "data": {
      "text/plain": [
       "gender                 0\n",
       "age                    0\n",
       "Time                   3\n",
       "Number_of_Warts        1\n",
       "Type                   5\n",
       "Area                   0\n",
       "induration_diameter    2\n",
       "Result_of_Treatment    0\n",
       "dtype: int64"
      ]
     },
     "execution_count": 5,
     "metadata": {},
     "output_type": "execute_result"
    }
   ],
   "source": [
    "df.isnull().sum()"
   ]
  },
  {
   "cell_type": "markdown",
   "id": "634bd06d",
   "metadata": {},
   "source": [
    "Dari percobaan diatas bisa diketahui bahwa tidak ada data yang duplikat. Namun ada beberapa kolom yang didapati beberapa missing value yaitu kolom Time, Number_of_Warts, Type, dan induration_diameter. Karena jumlah data hanya sedikit sehingga tidak bisa menghapus value Nan, sehingga harus mengisi value Nan tersebut."
   ]
  },
  {
   "cell_type": "markdown",
   "id": "8d42e969",
   "metadata": {},
   "source": [
    "Mari kita lihat juga apakah ada ketimpangan dalam dataset dengan menggunakan barplot"
   ]
  },
  {
   "cell_type": "code",
   "execution_count": 6,
   "id": "37d07fe5",
   "metadata": {},
   "outputs": [
    {
     "data": {
      "text/plain": [
       "<AxesSubplot:xlabel='Result_of_Treatment', ylabel='count'>"
      ]
     },
     "execution_count": 6,
     "metadata": {},
     "output_type": "execute_result"
    },
    {
     "data": {
      "image/png": "[encoded data removed]",
      "text/plain": [
       "<Figure size 640x480 with 1 Axes>"
      ]
     },
     "metadata": {},
     "output_type": "display_data"
    }
   ],
   "source": [
    "sns.countplot(x = df['Result_of_Treatment'])"
   ]
  },
  {
   "cell_type": "markdown",
   "id": "90d6f87a",
   "metadata": {},
   "source": [
    "Ternyata terjadi ada ketimpangan data sehingga perlu dibenahi nantinya"
   ]
  },
  {
   "cell_type": "markdown",
   "id": "d99e3e01",
   "metadata": {},
   "source": [
    "Kita juga perlu mencari korelasi antar variabelnya"
   ]
  },
  {
   "cell_type": "code",
   "execution_count": 7,
   "id": "a1fde62c",
   "metadata": {},
   "outputs": [
    {
     "data": {
      "image/png": "[encoded data removed]",
      "text/plain": [
       "<Figure size 1000x800 with 2 Axes>"
      ]
     },
     "metadata": {},
     "output_type": "display_data"
    }
   ],
   "source": [
    "corr = df.corr()\n",
    "plt.figure(figsize=(10, 8))\n",
    "sns.heatmap(corr, vmin=-1, vmax=1, cmap = \"coolwarm\", annot=True, fmt='.2f', linewidths=0.1, square = True)\n",
    "plt.title(\"Korelasi Antar Variabel\")\n",
    "plt.show()"
   ]
  },
  {
   "cell_type": "markdown",
   "id": "f991e62d",
   "metadata": {},
   "source": [
    "Besarnya angka menunjukan kuatnya korelasi, sedangkan untuk yang mendekati warna merah menunjukan korelasi positif dan sebaliknya korelasi negatif ditunjukan oleh warna biru"
   ]
  },
  {
   "cell_type": "markdown",
   "id": "521b61f1",
   "metadata": {},
   "source": [
    "### Fill Nan Value"
   ]
  },
  {
   "cell_type": "markdown",
   "id": "64f8dea1",
   "metadata": {},
   "source": [
    "Selanjutnya kita akan mengisi missing value pada beberapa kolom dengan perlakuan yang berbeda disetiap kolomnya:"
   ]
  },
  {
   "cell_type": "markdown",
   "id": "87f9cc4d",
   "metadata": {},
   "source": [
    "Time: Diisi dengan menggunakan regression"
   ]
  },
  {
   "cell_type": "markdown",
   "id": "230383da",
   "metadata": {},
   "source": [
    "Number_of_Warts: Diisi dengan menggunakan median"
   ]
  },
  {
   "cell_type": "markdown",
   "id": "b0756b73",
   "metadata": {},
   "source": [
    "Type: Diisi dengan menggunakan klasifikasi"
   ]
  },
  {
   "cell_type": "markdown",
   "id": "4f3845e0",
   "metadata": {},
   "source": [
    "induration_diameter: Diisi dengan menggunakan median"
   ]
  },
  {
   "cell_type": "markdown",
   "id": "cc0a6be9",
   "metadata": {},
   "source": [
    "##### Pertama kita mempersiapkan data yang akan digunakan terlebih dahulu"
   ]
  },
  {
   "cell_type": "code",
   "execution_count": 8,
   "id": "716dcdd1",
   "metadata": {},
   "outputs": [],
   "source": [
    "dfdropreg = df.dropna(subset=['Time', 'Type', 'induration_diameter'])\n",
    "dfdropclf = df.dropna(subset=['induration_diameter', 'Number_of_Warts', 'Type', 'Time'])"
   ]
  },
  {
   "cell_type": "markdown",
   "id": "f48c6864",
   "metadata": {},
   "source": [
    "#### Time"
   ]
  },
  {
   "cell_type": "markdown",
   "id": "2d7f134e",
   "metadata": {},
   "source": [
    "Kita akan mengisi Nan value pada time menggunakan linear regression"
   ]
  },
  {
   "cell_type": "code",
   "execution_count": 9,
   "id": "ef6115f2",
   "metadata": {},
   "outputs": [
    {
     "name": "stdout",
     "output_type": "stream",
     "text": [
      "Root Mean Squared Error (RMSE):  1.3809237189269365\n",
      "MAPE:  16.375327902824075\n",
      "Score:  0.5663519597790626\n"
     ]
    }
   ],
   "source": [
    "X = dfdropreg[['age', 'Type', 'induration_diameter']]\n",
    "y = dfdropreg['Time']\n",
    "X_train, X_test, y_train, y_test = train_test_split(X, y, test_size = 0.1, random_state = 19)\n",
    "lr = LinearRegression()\n",
    "lr.fit(X_train,y_train)\n",
    "y_pred = lr.predict(X_test)\n",
    "print(\"Root Mean Squared Error (RMSE): \", np.sqrt(mean_squared_error(y_test, y_pred)))\n",
    "LR_MAPE= mean_absolute_percentage_error(y_test, y_pred)*100\n",
    "print(\"MAPE: \",LR_MAPE)\n",
    "print(\"Score: \",lr.score(X_test, y_test))"
   ]
  },
  {
   "cell_type": "markdown",
   "id": "26e786d0",
   "metadata": {},
   "source": [
    "Karena memiliki nilai error yang cukup rendah maka bisa digunakan untuk mengisi missing value pada kolom Time"
   ]
  },
  {
   "cell_type": "code",
   "execution_count": 10,
   "id": "eca96f4c",
   "metadata": {},
   "outputs": [
    {
     "data": {
      "text/html": [
       "<div>\n",
       "<style scoped>\n",
       "    .dataframe tbody tr th:only-of-type {\n",
       "        vertical-align: middle;\n",
       "    }\n",
       "\n",
       "    .dataframe tbody tr th {\n",
       "        vertical-align: top;\n",
       "    }\n",
       "\n",
       "    .dataframe thead th {\n",
       "        text-align: right;\n",
       "    }\n",
       "</style>\n",
       "<table border=\"1\" class=\"dataframe\">\n",
       "  <thead>\n",
       "    <tr style=\"text-align: right;\">\n",
       "      <th></th>\n",
       "      <th>gender</th>\n",
       "      <th>age</th>\n",
       "      <th>Time</th>\n",
       "      <th>Number_of_Warts</th>\n",
       "      <th>Type</th>\n",
       "      <th>Area</th>\n",
       "      <th>induration_diameter</th>\n",
       "      <th>Result_of_Treatment</th>\n",
       "    </tr>\n",
       "  </thead>\n",
       "  <tbody>\n",
       "    <tr>\n",
       "      <th>43</th>\n",
       "      <td>1</td>\n",
       "      <td>38</td>\n",
       "      <td>NaN</td>\n",
       "      <td>8.0</td>\n",
       "      <td>2.0</td>\n",
       "      <td>56</td>\n",
       "      <td>45.0</td>\n",
       "      <td>1</td>\n",
       "    </tr>\n",
       "    <tr>\n",
       "      <th>50</th>\n",
       "      <td>1</td>\n",
       "      <td>54</td>\n",
       "      <td>NaN</td>\n",
       "      <td>13.0</td>\n",
       "      <td>3.0</td>\n",
       "      <td>43</td>\n",
       "      <td>5.0</td>\n",
       "      <td>1</td>\n",
       "    </tr>\n",
       "    <tr>\n",
       "      <th>72</th>\n",
       "      <td>2</td>\n",
       "      <td>28</td>\n",
       "      <td>NaN</td>\n",
       "      <td>4.0</td>\n",
       "      <td>1.0</td>\n",
       "      <td>9</td>\n",
       "      <td>2.0</td>\n",
       "      <td>1</td>\n",
       "    </tr>\n",
       "  </tbody>\n",
       "</table>\n",
       "</div>"
      ],
      "text/plain": [
       "    gender  age  Time  Number_of_Warts  Type  Area  induration_diameter  \\\n",
       "43       1   38   NaN              8.0   2.0    56                 45.0   \n",
       "50       1   54   NaN             13.0   3.0    43                  5.0   \n",
       "72       2   28   NaN              4.0   1.0     9                  2.0   \n",
       "\n",
       "    Result_of_Treatment  \n",
       "43                    1  \n",
       "50                    1  \n",
       "72                    1  "
      ]
     },
     "execution_count": 10,
     "metadata": {},
     "output_type": "execute_result"
    }
   ],
   "source": [
    "df[df['Time'].isna()]"
   ]
  },
  {
   "cell_type": "code",
   "execution_count": 11,
   "id": "24b2d649",
   "metadata": {},
   "outputs": [],
   "source": [
    "df_timemiss = df[\"Time\"].isna()\n",
    "var_timemiss = pd.DataFrame(df[['age', 'Type', 'induration_diameter']][df_timemiss])\n",
    "time_pred = np.round(lr.predict(var_timemiss), 2)\n",
    "missingval = df['Time'].isna()\n",
    "df.loc[missingval,'Time'] = time_pred"
   ]
  },
  {
   "cell_type": "code",
   "execution_count": 12,
   "id": "7f764139",
   "metadata": {},
   "outputs": [
    {
     "data": {
      "text/html": [
       "<div>\n",
       "<style scoped>\n",
       "    .dataframe tbody tr th:only-of-type {\n",
       "        vertical-align: middle;\n",
       "    }\n",
       "\n",
       "    .dataframe tbody tr th {\n",
       "        vertical-align: top;\n",
       "    }\n",
       "\n",
       "    .dataframe thead th {\n",
       "        text-align: right;\n",
       "    }\n",
       "</style>\n",
       "<table border=\"1\" class=\"dataframe\">\n",
       "  <thead>\n",
       "    <tr style=\"text-align: right;\">\n",
       "      <th></th>\n",
       "      <th>gender</th>\n",
       "      <th>age</th>\n",
       "      <th>Time</th>\n",
       "      <th>Number_of_Warts</th>\n",
       "      <th>Type</th>\n",
       "      <th>Area</th>\n",
       "      <th>induration_diameter</th>\n",
       "      <th>Result_of_Treatment</th>\n",
       "    </tr>\n",
       "  </thead>\n",
       "  <tbody>\n",
       "    <tr>\n",
       "      <th>43</th>\n",
       "      <td>1</td>\n",
       "      <td>38</td>\n",
       "      <td>6.55</td>\n",
       "      <td>8.0</td>\n",
       "      <td>2.0</td>\n",
       "      <td>56</td>\n",
       "      <td>45.0</td>\n",
       "      <td>1</td>\n",
       "    </tr>\n",
       "    <tr>\n",
       "      <th>50</th>\n",
       "      <td>1</td>\n",
       "      <td>54</td>\n",
       "      <td>7.47</td>\n",
       "      <td>13.0</td>\n",
       "      <td>3.0</td>\n",
       "      <td>43</td>\n",
       "      <td>5.0</td>\n",
       "      <td>1</td>\n",
       "    </tr>\n",
       "    <tr>\n",
       "      <th>72</th>\n",
       "      <td>2</td>\n",
       "      <td>28</td>\n",
       "      <td>8.09</td>\n",
       "      <td>4.0</td>\n",
       "      <td>1.0</td>\n",
       "      <td>9</td>\n",
       "      <td>2.0</td>\n",
       "      <td>1</td>\n",
       "    </tr>\n",
       "  </tbody>\n",
       "</table>\n",
       "</div>"
      ],
      "text/plain": [
       "    gender  age  Time  Number_of_Warts  Type  Area  induration_diameter  \\\n",
       "43       1   38  6.55              8.0   2.0    56                 45.0   \n",
       "50       1   54  7.47             13.0   3.0    43                  5.0   \n",
       "72       2   28  8.09              4.0   1.0     9                  2.0   \n",
       "\n",
       "    Result_of_Treatment  \n",
       "43                    1  \n",
       "50                    1  \n",
       "72                    1  "
      ]
     },
     "execution_count": 12,
     "metadata": {},
     "output_type": "execute_result"
    }
   ],
   "source": [
    "df.iloc[[43,50,72]]"
   ]
  },
  {
   "cell_type": "code",
   "execution_count": 13,
   "id": "e4c103be",
   "metadata": {},
   "outputs": [
    {
     "data": {
      "text/plain": [
       "gender                 0\n",
       "age                    0\n",
       "Time                   0\n",
       "Number_of_Warts        1\n",
       "Type                   5\n",
       "Area                   0\n",
       "induration_diameter    2\n",
       "Result_of_Treatment    0\n",
       "dtype: int64"
      ]
     },
     "execution_count": 13,
     "metadata": {},
     "output_type": "execute_result"
    }
   ],
   "source": [
    "df.isna().sum()"
   ]
  },
  {
   "cell_type": "markdown",
   "id": "594e5e75",
   "metadata": {},
   "source": [
    "#### Type"
   ]
  },
  {
   "cell_type": "markdown",
   "id": "95a872b5",
   "metadata": {},
   "source": [
    "Setelah itu kita perlu mengisi missing value pada kolom Type menggunakan classification KNN"
   ]
  },
  {
   "cell_type": "code",
   "execution_count": 14,
   "id": "0ea2f8d0",
   "metadata": {},
   "outputs": [
    {
     "name": "stdout",
     "output_type": "stream",
     "text": [
      "Confusion Matrix\n",
      " [[4 0 0]\n",
      " [1 2 0]\n",
      " [0 0 1]]\n",
      "Accuracy Score:  0.875\n"
     ]
    }
   ],
   "source": [
    "X = dfdropclf[['induration_diameter', 'Number_of_Warts', 'Time']]\n",
    "y = dfdropclf['Type']\n",
    "X_train, X_test, y_train, y_test = train_test_split(X, y, test_size = 0.1, random_state = 25)\n",
    "sc = StandardScaler()\n",
    "X_train = sc.fit_transform(X_train)\n",
    "X_test = sc.transform(X_test)\n",
    "classifier = KNeighborsClassifier(metric = \"euclidean\")\n",
    "classifier.fit(X_train, y_train)\n",
    "y_pred = classifier.predict(X_test)\n",
    "cm = confusion_matrix(y_test, y_pred)\n",
    "print(\"Confusion Matrix\\n\", cm)\n",
    "print(\"Accuracy Score: \", accuracy_score(y_test, y_pred))"
   ]
  },
  {
   "cell_type": "markdown",
   "id": "c83bd00e",
   "metadata": {},
   "source": [
    "Karena akurasi sudah cukup bagus maka akan digunakan untuk mengisi Nan pada variabel Type"
   ]
  },
  {
   "cell_type": "code",
   "execution_count": 15,
   "id": "71d51a4d",
   "metadata": {},
   "outputs": [
    {
     "data": {
      "text/html": [
       "<div>\n",
       "<style scoped>\n",
       "    .dataframe tbody tr th:only-of-type {\n",
       "        vertical-align: middle;\n",
       "    }\n",
       "\n",
       "    .dataframe tbody tr th {\n",
       "        vertical-align: top;\n",
       "    }\n",
       "\n",
       "    .dataframe thead th {\n",
       "        text-align: right;\n",
       "    }\n",
       "</style>\n",
       "<table border=\"1\" class=\"dataframe\">\n",
       "  <thead>\n",
       "    <tr style=\"text-align: right;\">\n",
       "      <th></th>\n",
       "      <th>gender</th>\n",
       "      <th>age</th>\n",
       "      <th>Time</th>\n",
       "      <th>Number_of_Warts</th>\n",
       "      <th>Type</th>\n",
       "      <th>Area</th>\n",
       "      <th>induration_diameter</th>\n",
       "      <th>Result_of_Treatment</th>\n",
       "    </tr>\n",
       "  </thead>\n",
       "  <tbody>\n",
       "    <tr>\n",
       "      <th>10</th>\n",
       "      <td>2</td>\n",
       "      <td>26</td>\n",
       "      <td>10.50</td>\n",
       "      <td>6.0</td>\n",
       "      <td>NaN</td>\n",
       "      <td>50</td>\n",
       "      <td>9.0</td>\n",
       "      <td>0</td>\n",
       "    </tr>\n",
       "    <tr>\n",
       "      <th>26</th>\n",
       "      <td>1</td>\n",
       "      <td>20</td>\n",
       "      <td>8.00</td>\n",
       "      <td>6.0</td>\n",
       "      <td>NaN</td>\n",
       "      <td>45</td>\n",
       "      <td>8.0</td>\n",
       "      <td>1</td>\n",
       "    </tr>\n",
       "    <tr>\n",
       "      <th>66</th>\n",
       "      <td>2</td>\n",
       "      <td>23</td>\n",
       "      <td>6.75</td>\n",
       "      <td>6.0</td>\n",
       "      <td>NaN</td>\n",
       "      <td>19</td>\n",
       "      <td>2.0</td>\n",
       "      <td>1</td>\n",
       "    </tr>\n",
       "    <tr>\n",
       "      <th>86</th>\n",
       "      <td>2</td>\n",
       "      <td>51</td>\n",
       "      <td>6.00</td>\n",
       "      <td>6.0</td>\n",
       "      <td>NaN</td>\n",
       "      <td>80</td>\n",
       "      <td>2.0</td>\n",
       "      <td>1</td>\n",
       "    </tr>\n",
       "    <tr>\n",
       "      <th>89</th>\n",
       "      <td>2</td>\n",
       "      <td>53</td>\n",
       "      <td>7.25</td>\n",
       "      <td>6.0</td>\n",
       "      <td>NaN</td>\n",
       "      <td>81</td>\n",
       "      <td>7.0</td>\n",
       "      <td>1</td>\n",
       "    </tr>\n",
       "  </tbody>\n",
       "</table>\n",
       "</div>"
      ],
      "text/plain": [
       "    gender  age   Time  Number_of_Warts  Type  Area  induration_diameter  \\\n",
       "10       2   26  10.50              6.0   NaN    50                  9.0   \n",
       "26       1   20   8.00              6.0   NaN    45                  8.0   \n",
       "66       2   23   6.75              6.0   NaN    19                  2.0   \n",
       "86       2   51   6.00              6.0   NaN    80                  2.0   \n",
       "89       2   53   7.25              6.0   NaN    81                  7.0   \n",
       "\n",
       "    Result_of_Treatment  \n",
       "10                    0  \n",
       "26                    1  \n",
       "66                    1  \n",
       "86                    1  \n",
       "89                    1  "
      ]
     },
     "execution_count": 15,
     "metadata": {},
     "output_type": "execute_result"
    }
   ],
   "source": [
    "df[df['Type'].isna()]"
   ]
  },
  {
   "cell_type": "code",
   "execution_count": 16,
   "id": "6f09d2c7",
   "metadata": {},
   "outputs": [],
   "source": [
    "df_typemiss = df[\"Type\"].isna()\n",
    "var_typemiss = pd.DataFrame(df[['induration_diameter', 'Number_of_Warts', 'Time']][df_typemiss])\n",
    "type_pred = np.round(classifier.predict(var_typemiss.values))\n",
    "missingval = df['Type'].isna()\n",
    "df.loc[missingval,'Type'] = type_pred"
   ]
  },
  {
   "cell_type": "code",
   "execution_count": 17,
   "id": "35280af0",
   "metadata": {},
   "outputs": [
    {
     "data": {
      "text/html": [
       "<div>\n",
       "<style scoped>\n",
       "    .dataframe tbody tr th:only-of-type {\n",
       "        vertical-align: middle;\n",
       "    }\n",
       "\n",
       "    .dataframe tbody tr th {\n",
       "        vertical-align: top;\n",
       "    }\n",
       "\n",
       "    .dataframe thead th {\n",
       "        text-align: right;\n",
       "    }\n",
       "</style>\n",
       "<table border=\"1\" class=\"dataframe\">\n",
       "  <thead>\n",
       "    <tr style=\"text-align: right;\">\n",
       "      <th></th>\n",
       "      <th>gender</th>\n",
       "      <th>age</th>\n",
       "      <th>Time</th>\n",
       "      <th>Number_of_Warts</th>\n",
       "      <th>Type</th>\n",
       "      <th>Area</th>\n",
       "      <th>induration_diameter</th>\n",
       "      <th>Result_of_Treatment</th>\n",
       "    </tr>\n",
       "  </thead>\n",
       "  <tbody>\n",
       "    <tr>\n",
       "      <th>10</th>\n",
       "      <td>2</td>\n",
       "      <td>26</td>\n",
       "      <td>10.50</td>\n",
       "      <td>6.0</td>\n",
       "      <td>1.0</td>\n",
       "      <td>50</td>\n",
       "      <td>9.0</td>\n",
       "      <td>0</td>\n",
       "    </tr>\n",
       "    <tr>\n",
       "      <th>26</th>\n",
       "      <td>1</td>\n",
       "      <td>20</td>\n",
       "      <td>8.00</td>\n",
       "      <td>6.0</td>\n",
       "      <td>1.0</td>\n",
       "      <td>45</td>\n",
       "      <td>8.0</td>\n",
       "      <td>1</td>\n",
       "    </tr>\n",
       "    <tr>\n",
       "      <th>66</th>\n",
       "      <td>2</td>\n",
       "      <td>23</td>\n",
       "      <td>6.75</td>\n",
       "      <td>6.0</td>\n",
       "      <td>1.0</td>\n",
       "      <td>19</td>\n",
       "      <td>2.0</td>\n",
       "      <td>1</td>\n",
       "    </tr>\n",
       "    <tr>\n",
       "      <th>86</th>\n",
       "      <td>2</td>\n",
       "      <td>51</td>\n",
       "      <td>6.00</td>\n",
       "      <td>6.0</td>\n",
       "      <td>1.0</td>\n",
       "      <td>80</td>\n",
       "      <td>2.0</td>\n",
       "      <td>1</td>\n",
       "    </tr>\n",
       "    <tr>\n",
       "      <th>89</th>\n",
       "      <td>2</td>\n",
       "      <td>53</td>\n",
       "      <td>7.25</td>\n",
       "      <td>6.0</td>\n",
       "      <td>1.0</td>\n",
       "      <td>81</td>\n",
       "      <td>7.0</td>\n",
       "      <td>1</td>\n",
       "    </tr>\n",
       "  </tbody>\n",
       "</table>\n",
       "</div>"
      ],
      "text/plain": [
       "    gender  age   Time  Number_of_Warts  Type  Area  induration_diameter  \\\n",
       "10       2   26  10.50              6.0   1.0    50                  9.0   \n",
       "26       1   20   8.00              6.0   1.0    45                  8.0   \n",
       "66       2   23   6.75              6.0   1.0    19                  2.0   \n",
       "86       2   51   6.00              6.0   1.0    80                  2.0   \n",
       "89       2   53   7.25              6.0   1.0    81                  7.0   \n",
       "\n",
       "    Result_of_Treatment  \n",
       "10                    0  \n",
       "26                    1  \n",
       "66                    1  \n",
       "86                    1  \n",
       "89                    1  "
      ]
     },
     "execution_count": 17,
     "metadata": {},
     "output_type": "execute_result"
    }
   ],
   "source": [
    "df.iloc[[10,26,66, 86, 89]]"
   ]
  },
  {
   "cell_type": "markdown",
   "id": "b24dc0e7",
   "metadata": {},
   "source": [
    "#### Number of Warts & Induration Diameter"
   ]
  },
  {
   "cell_type": "markdown",
   "id": "466eb509",
   "metadata": {},
   "source": [
    "Kita cek terlebih dahulu apakah data terdistribusi normal atau skewed"
   ]
  },
  {
   "cell_type": "code",
   "execution_count": 18,
   "id": "93900582",
   "metadata": {},
   "outputs": [
    {
     "data": {
      "image/png": "[encoded data removed]",
      "text/plain": [
       "<Figure size 640x480 with 1 Axes>"
      ]
     },
     "metadata": {},
     "output_type": "display_data"
    }
   ],
   "source": [
    "df2 = df[df['Number_of_Warts'].notna()]\n",
    "data = df2['Number_of_Warts']\n",
    "mu, std = norm.fit(data)\n",
    "  \n",
    "# Plot the histogram.\n",
    "plt.hist(data, bins=25, density=True, alpha=0.6, color='b')\n",
    "  \n",
    "# Plot the PDF.\n",
    "xmin, xmax = plt.xlim()\n",
    "x = np.linspace(xmin, xmax)\n",
    "p = norm.pdf(x, mu, std)\n",
    "  \n",
    "plt.plot(x, p, 'k', linewidth=2)\n",
    "plt.title('Number_of_Warts')\n",
    "plt.show()"
   ]
  },
  {
   "cell_type": "code",
   "execution_count": 19,
   "id": "e008e8be",
   "metadata": {},
   "outputs": [
    {
     "data": {
      "image/png": "[encoded data removed]",
      "text/plain": [
       "<Figure size 640x480 with 1 Axes>"
      ]
     },
     "metadata": {},
     "output_type": "display_data"
    }
   ],
   "source": [
    "df2 = df[df['induration_diameter'].notna()]\n",
    "data = df2['induration_diameter']\n",
    "mu, std = norm.fit(data) \n",
    "  \n",
    "# Plot the histogram.\n",
    "plt.hist(data, bins=25, density=True, alpha=0.6, color='b')\n",
    "  \n",
    "# Plot the PDF.\n",
    "xmin, xmax = plt.xlim()\n",
    "x = np.linspace(xmin, xmax)\n",
    "p = norm.pdf(x, mu, std)\n",
    "  \n",
    "plt.plot(x, p, 'k', linewidth=2)\n",
    "  \n",
    "plt.show()"
   ]
  },
  {
   "cell_type": "markdown",
   "id": "c9625794",
   "metadata": {},
   "source": [
    "Selanjutnya untuk kolom Number_of_Warts dan induration_diameter bisa menggunakan median untuk mengisi missing value"
   ]
  },
  {
   "cell_type": "code",
   "execution_count": 20,
   "id": "e93f1fa7",
   "metadata": {},
   "outputs": [
    {
     "data": {
      "text/html": [
       "<div>\n",
       "<style scoped>\n",
       "    .dataframe tbody tr th:only-of-type {\n",
       "        vertical-align: middle;\n",
       "    }\n",
       "\n",
       "    .dataframe tbody tr th {\n",
       "        vertical-align: top;\n",
       "    }\n",
       "\n",
       "    .dataframe thead th {\n",
       "        text-align: right;\n",
       "    }\n",
       "</style>\n",
       "<table border=\"1\" class=\"dataframe\">\n",
       "  <thead>\n",
       "    <tr style=\"text-align: right;\">\n",
       "      <th></th>\n",
       "      <th>gender</th>\n",
       "      <th>age</th>\n",
       "      <th>Time</th>\n",
       "      <th>Number_of_Warts</th>\n",
       "      <th>Type</th>\n",
       "      <th>Area</th>\n",
       "      <th>induration_diameter</th>\n",
       "      <th>Result_of_Treatment</th>\n",
       "    </tr>\n",
       "  </thead>\n",
       "  <tbody>\n",
       "    <tr>\n",
       "      <th>19</th>\n",
       "      <td>1</td>\n",
       "      <td>15</td>\n",
       "      <td>4.0</td>\n",
       "      <td>4.0</td>\n",
       "      <td>3.0</td>\n",
       "      <td>25</td>\n",
       "      <td>NaN</td>\n",
       "      <td>1</td>\n",
       "    </tr>\n",
       "    <tr>\n",
       "      <th>53</th>\n",
       "      <td>2</td>\n",
       "      <td>15</td>\n",
       "      <td>6.5</td>\n",
       "      <td>19.0</td>\n",
       "      <td>1.0</td>\n",
       "      <td>56</td>\n",
       "      <td>NaN</td>\n",
       "      <td>1</td>\n",
       "    </tr>\n",
       "  </tbody>\n",
       "</table>\n",
       "</div>"
      ],
      "text/plain": [
       "    gender  age  Time  Number_of_Warts  Type  Area  induration_diameter  \\\n",
       "19       1   15   4.0              4.0   3.0    25                  NaN   \n",
       "53       2   15   6.5             19.0   1.0    56                  NaN   \n",
       "\n",
       "    Result_of_Treatment  \n",
       "19                    1  \n",
       "53                    1  "
      ]
     },
     "execution_count": 20,
     "metadata": {},
     "output_type": "execute_result"
    }
   ],
   "source": [
    "df[df['induration_diameter'].isna()]"
   ]
  },
  {
   "cell_type": "code",
   "execution_count": 21,
   "id": "2f885837",
   "metadata": {},
   "outputs": [
    {
     "data": {
      "text/html": [
       "<div>\n",
       "<style scoped>\n",
       "    .dataframe tbody tr th:only-of-type {\n",
       "        vertical-align: middle;\n",
       "    }\n",
       "\n",
       "    .dataframe tbody tr th {\n",
       "        vertical-align: top;\n",
       "    }\n",
       "\n",
       "    .dataframe thead th {\n",
       "        text-align: right;\n",
       "    }\n",
       "</style>\n",
       "<table border=\"1\" class=\"dataframe\">\n",
       "  <thead>\n",
       "    <tr style=\"text-align: right;\">\n",
       "      <th></th>\n",
       "      <th>gender</th>\n",
       "      <th>age</th>\n",
       "      <th>Time</th>\n",
       "      <th>Number_of_Warts</th>\n",
       "      <th>Type</th>\n",
       "      <th>Area</th>\n",
       "      <th>induration_diameter</th>\n",
       "      <th>Result_of_Treatment</th>\n",
       "    </tr>\n",
       "  </thead>\n",
       "  <tbody>\n",
       "    <tr>\n",
       "      <th>1</th>\n",
       "      <td>1</td>\n",
       "      <td>27</td>\n",
       "      <td>11.75</td>\n",
       "      <td>NaN</td>\n",
       "      <td>1.0</td>\n",
       "      <td>208</td>\n",
       "      <td>6.0</td>\n",
       "      <td>0</td>\n",
       "    </tr>\n",
       "  </tbody>\n",
       "</table>\n",
       "</div>"
      ],
      "text/plain": [
       "   gender  age   Time  Number_of_Warts  Type  Area  induration_diameter  \\\n",
       "1       1   27  11.75              NaN   1.0   208                  6.0   \n",
       "\n",
       "   Result_of_Treatment  \n",
       "1                    0  "
      ]
     },
     "execution_count": 21,
     "metadata": {},
     "output_type": "execute_result"
    }
   ],
   "source": [
    "df[df['Number_of_Warts'].isna()]"
   ]
  },
  {
   "cell_type": "code",
   "execution_count": 22,
   "id": "8aa3437f",
   "metadata": {},
   "outputs": [
    {
     "data": {
      "text/plain": [
       "gender                 0\n",
       "age                    0\n",
       "Time                   0\n",
       "Number_of_Warts        0\n",
       "Type                   0\n",
       "Area                   0\n",
       "induration_diameter    0\n",
       "Result_of_Treatment    0\n",
       "dtype: int64"
      ]
     },
     "execution_count": 22,
     "metadata": {},
     "output_type": "execute_result"
    }
   ],
   "source": [
    "df['Number_of_Warts']=df['Number_of_Warts'].fillna(np.round(df['Number_of_Warts'].median()))\n",
    "df['induration_diameter']=df['induration_diameter'].fillna(np.round(df['induration_diameter'].median()))\n",
    "df.isna().sum()"
   ]
  },
  {
   "cell_type": "code",
   "execution_count": 23,
   "id": "a7054b55",
   "metadata": {},
   "outputs": [
    {
     "data": {
      "text/html": [
       "<div>\n",
       "<style scoped>\n",
       "    .dataframe tbody tr th:only-of-type {\n",
       "        vertical-align: middle;\n",
       "    }\n",
       "\n",
       "    .dataframe tbody tr th {\n",
       "        vertical-align: top;\n",
       "    }\n",
       "\n",
       "    .dataframe thead th {\n",
       "        text-align: right;\n",
       "    }\n",
       "</style>\n",
       "<table border=\"1\" class=\"dataframe\">\n",
       "  <thead>\n",
       "    <tr style=\"text-align: right;\">\n",
       "      <th></th>\n",
       "      <th>gender</th>\n",
       "      <th>age</th>\n",
       "      <th>Time</th>\n",
       "      <th>Number_of_Warts</th>\n",
       "      <th>Type</th>\n",
       "      <th>Area</th>\n",
       "      <th>induration_diameter</th>\n",
       "      <th>Result_of_Treatment</th>\n",
       "    </tr>\n",
       "  </thead>\n",
       "  <tbody>\n",
       "    <tr>\n",
       "      <th>19</th>\n",
       "      <td>1</td>\n",
       "      <td>15</td>\n",
       "      <td>4.0</td>\n",
       "      <td>4.0</td>\n",
       "      <td>3.0</td>\n",
       "      <td>25</td>\n",
       "      <td>7.0</td>\n",
       "      <td>1</td>\n",
       "    </tr>\n",
       "    <tr>\n",
       "      <th>53</th>\n",
       "      <td>2</td>\n",
       "      <td>15</td>\n",
       "      <td>6.5</td>\n",
       "      <td>19.0</td>\n",
       "      <td>1.0</td>\n",
       "      <td>56</td>\n",
       "      <td>7.0</td>\n",
       "      <td>1</td>\n",
       "    </tr>\n",
       "  </tbody>\n",
       "</table>\n",
       "</div>"
      ],
      "text/plain": [
       "    gender  age  Time  Number_of_Warts  Type  Area  induration_diameter  \\\n",
       "19       1   15   4.0              4.0   3.0    25                  7.0   \n",
       "53       2   15   6.5             19.0   1.0    56                  7.0   \n",
       "\n",
       "    Result_of_Treatment  \n",
       "19                    1  \n",
       "53                    1  "
      ]
     },
     "execution_count": 23,
     "metadata": {},
     "output_type": "execute_result"
    }
   ],
   "source": [
    "df.iloc[[19, 53]]"
   ]
  },
  {
   "cell_type": "code",
   "execution_count": 24,
   "id": "e899dad1",
   "metadata": {},
   "outputs": [
    {
     "data": {
      "text/html": [
       "<div>\n",
       "<style scoped>\n",
       "    .dataframe tbody tr th:only-of-type {\n",
       "        vertical-align: middle;\n",
       "    }\n",
       "\n",
       "    .dataframe tbody tr th {\n",
       "        vertical-align: top;\n",
       "    }\n",
       "\n",
       "    .dataframe thead th {\n",
       "        text-align: right;\n",
       "    }\n",
       "</style>\n",
       "<table border=\"1\" class=\"dataframe\">\n",
       "  <thead>\n",
       "    <tr style=\"text-align: right;\">\n",
       "      <th></th>\n",
       "      <th>gender</th>\n",
       "      <th>age</th>\n",
       "      <th>Time</th>\n",
       "      <th>Number_of_Warts</th>\n",
       "      <th>Type</th>\n",
       "      <th>Area</th>\n",
       "      <th>induration_diameter</th>\n",
       "      <th>Result_of_Treatment</th>\n",
       "    </tr>\n",
       "  </thead>\n",
       "  <tbody>\n",
       "    <tr>\n",
       "      <th>1</th>\n",
       "      <td>1</td>\n",
       "      <td>27</td>\n",
       "      <td>11.75</td>\n",
       "      <td>6.0</td>\n",
       "      <td>1.0</td>\n",
       "      <td>208</td>\n",
       "      <td>6.0</td>\n",
       "      <td>0</td>\n",
       "    </tr>\n",
       "  </tbody>\n",
       "</table>\n",
       "</div>"
      ],
      "text/plain": [
       "   gender  age   Time  Number_of_Warts  Type  Area  induration_diameter  \\\n",
       "1       1   27  11.75              6.0   1.0   208                  6.0   \n",
       "\n",
       "   Result_of_Treatment  \n",
       "1                    0  "
      ]
     },
     "execution_count": 24,
     "metadata": {},
     "output_type": "execute_result"
    }
   ],
   "source": [
    "df.iloc[[1]]"
   ]
  },
  {
   "cell_type": "markdown",
   "id": "54efadf8",
   "metadata": {},
   "source": [
    "### Repair Dataset"
   ]
  },
  {
   "cell_type": "markdown",
   "id": "fff88be0",
   "metadata": {},
   "source": [
    "Karena tipe data masih banyak yang tidak cocok maka akan dirapikan kembali"
   ]
  },
  {
   "cell_type": "code",
   "execution_count": 25,
   "id": "1abb4030",
   "metadata": {},
   "outputs": [
    {
     "name": "stdout",
     "output_type": "stream",
     "text": [
      "<class 'pandas.core.frame.DataFrame'>\n",
      "RangeIndex: 90 entries, 0 to 89\n",
      "Data columns (total 8 columns):\n",
      " #   Column               Non-Null Count  Dtype  \n",
      "---  ------               --------------  -----  \n",
      " 0   gender               90 non-null     int64  \n",
      " 1   age                  90 non-null     int64  \n",
      " 2   Time                 90 non-null     float64\n",
      " 3   Number_of_Warts      90 non-null     int64  \n",
      " 4   Type                 90 non-null     int64  \n",
      " 5   Area                 90 non-null     int64  \n",
      " 6   induration_diameter  90 non-null     int64  \n",
      " 7   Result_of_Treatment  90 non-null     int64  \n",
      "dtypes: float64(1), int64(7)\n",
      "memory usage: 5.8 KB\n"
     ]
    }
   ],
   "source": [
    "df[['Number_of_Warts', 'Type', 'induration_diameter']] = df[['Number_of_Warts', 'Type', 'induration_diameter']].astype('int64')\n",
    "df.info()"
   ]
  },
  {
   "cell_type": "markdown",
   "id": "903e8c24",
   "metadata": {},
   "source": [
    "Untuk mengatasi imbalence pada dataset akan menggunakan metode oversample smote"
   ]
  },
  {
   "cell_type": "code",
   "execution_count": 26,
   "id": "60e2f2f6",
   "metadata": {},
   "outputs": [],
   "source": [
    "X = df[['gender', 'age', 'Number_of_Warts', 'Area', 'induration_diameter','Type', 'Time']]\n",
    "y = df['Result_of_Treatment']\n",
    "oversample = SMOTE(random_state = 0)\n",
    "X_smote, y_smote = oversample.fit_resample(X, y)\n",
    "df2 = pd.DataFrame(X_smote)\n",
    "df2[\"Result_of_Treatment\"] = y_smote"
   ]
  },
  {
   "cell_type": "markdown",
   "id": "792fef6b",
   "metadata": {},
   "source": [
    "Kita cek lagi apakah ada data yang terduplikat"
   ]
  },
  {
   "cell_type": "code",
   "execution_count": 27,
   "id": "566f645e",
   "metadata": {},
   "outputs": [
    {
     "data": {
      "text/plain": [
       "0"
      ]
     },
     "execution_count": 27,
     "metadata": {},
     "output_type": "execute_result"
    }
   ],
   "source": [
    "df2.duplicated().sum()"
   ]
  },
  {
   "cell_type": "markdown",
   "id": "e89a9649",
   "metadata": {},
   "source": [
    "Selanjutnya kita cek juga apakah data sudah tidak timpang"
   ]
  },
  {
   "cell_type": "code",
   "execution_count": 28,
   "id": "321415c2",
   "metadata": {},
   "outputs": [
    {
     "data": {
      "text/plain": [
       "<AxesSubplot:xlabel='Result_of_Treatment', ylabel='count'>"
      ]
     },
     "execution_count": 28,
     "metadata": {},
     "output_type": "execute_result"
    },
    {
     "data": {
      "image/png": "[encoded data removed]",
      "text/plain": [
       "<Figure size 640x480 with 1 Axes>"
      ]
     },
     "metadata": {},
     "output_type": "display_data"
    }
   ],
   "source": [
    "sns.countplot(x = df2['Result_of_Treatment'])"
   ]
  },
  {
   "cell_type": "markdown",
   "id": "2e26c022",
   "metadata": {},
   "source": [
    "Kita juga akan merename nama variabel agar lebih mudah dalam memprosesnya"
   ]
  },
  {
   "cell_type": "code",
   "execution_count": 29,
   "id": "f6a1a276",
   "metadata": {},
   "outputs": [],
   "source": [
    "df2 = df2.rename(columns = {'gender' : 'gender','age' : 'age','Time':'time','Number_of_Warts':'number_of_warts','Type':'type','Area':'area','induration_diameter':'induration_diameter','Result_of_Treatment':'result_of_treatment'})"
   ]
  },
  {
   "cell_type": "code",
   "execution_count": 30,
   "id": "7ddbf0e1",
   "metadata": {},
   "outputs": [
    {
     "name": "stdout",
     "output_type": "stream",
     "text": [
      "<class 'pandas.core.frame.DataFrame'>\n",
      "RangeIndex: 142 entries, 0 to 141\n",
      "Data columns (total 8 columns):\n",
      " #   Column               Non-Null Count  Dtype  \n",
      "---  ------               --------------  -----  \n",
      " 0   gender               142 non-null    int64  \n",
      " 1   age                  142 non-null    int64  \n",
      " 2   number_of_warts      142 non-null    int64  \n",
      " 3   area                 142 non-null    int64  \n",
      " 4   induration_diameter  142 non-null    int64  \n",
      " 5   type                 142 non-null    int64  \n",
      " 6   time                 142 non-null    float64\n",
      " 7   result_of_treatment  142 non-null    int64  \n",
      "dtypes: float64(1), int64(7)\n",
      "memory usage: 9.0 KB\n"
     ]
    }
   ],
   "source": [
    "df2.info()"
   ]
  },
  {
   "cell_type": "markdown",
   "id": "f4529753",
   "metadata": {},
   "source": [
    "Dataset sudah berhasil dibenahi dengan baik"
   ]
  },
  {
   "cell_type": "markdown",
   "id": "76af3727",
   "metadata": {},
   "source": [
    "### Create Model"
   ]
  },
  {
   "cell_type": "markdown",
   "id": "fdfa96a5",
   "metadata": {},
   "source": [
    "#### Regression"
   ]
  },
  {
   "cell_type": "code",
   "execution_count": 31,
   "id": "db7b00db",
   "metadata": {},
   "outputs": [
    {
     "name": "stdout",
     "output_type": "stream",
     "text": [
      "Root Mean Squared Error (RMSE):  2.1157485260194466\n",
      "MAPE:  25.114333709695085\n",
      "Score:  0.19426587531229145\n"
     ]
    }
   ],
   "source": [
    "X = df2[['age', 'type', 'induration_diameter']]\n",
    "y = df2['time']\n",
    "X_train, X_test, y_train, y_test = train_test_split(X, y, test_size = 0.1, random_state = 25)\n",
    "lr = LinearRegression()\n",
    "lr.fit(X_train,y_train)\n",
    "y_pred = lr.predict(X_test)\n",
    "print(\"Root Mean Squared Error (RMSE): \", np.sqrt(mean_squared_error(y_test, y_pred)))\n",
    "LR_MAPE= mean_absolute_percentage_error(y_test, y_pred)*100\n",
    "print(\"MAPE: \",LR_MAPE)\n",
    "print(\"Score: \",lr.score(X_test, y_test))"
   ]
  },
  {
   "cell_type": "code",
   "execution_count": 32,
   "id": "55f603e8",
   "metadata": {},
   "outputs": [
    {
     "data": {
      "text/html": [
       "<div>\n",
       "<style scoped>\n",
       "    .dataframe tbody tr th:only-of-type {\n",
       "        vertical-align: middle;\n",
       "    }\n",
       "\n",
       "    .dataframe tbody tr th {\n",
       "        vertical-align: top;\n",
       "    }\n",
       "\n",
       "    .dataframe thead th {\n",
       "        text-align: right;\n",
       "    }\n",
       "</style>\n",
       "<table border=\"1\" class=\"dataframe\">\n",
       "  <thead>\n",
       "    <tr style=\"text-align: right;\">\n",
       "      <th></th>\n",
       "      <th>y_test</th>\n",
       "      <th>y_pred</th>\n",
       "    </tr>\n",
       "  </thead>\n",
       "  <tbody>\n",
       "    <tr>\n",
       "      <th>69</th>\n",
       "      <td>4.250000</td>\n",
       "      <td>8.299465</td>\n",
       "    </tr>\n",
       "    <tr>\n",
       "      <th>113</th>\n",
       "      <td>10.673446</td>\n",
       "      <td>8.730361</td>\n",
       "    </tr>\n",
       "    <tr>\n",
       "      <th>105</th>\n",
       "      <td>11.657714</td>\n",
       "      <td>8.950434</td>\n",
       "    </tr>\n",
       "    <tr>\n",
       "      <th>125</th>\n",
       "      <td>6.134386</td>\n",
       "      <td>7.508146</td>\n",
       "    </tr>\n",
       "    <tr>\n",
       "      <th>26</th>\n",
       "      <td>8.000000</td>\n",
       "      <td>7.984500</td>\n",
       "    </tr>\n",
       "    <tr>\n",
       "      <th>97</th>\n",
       "      <td>7.246924</td>\n",
       "      <td>7.712096</td>\n",
       "    </tr>\n",
       "    <tr>\n",
       "      <th>79</th>\n",
       "      <td>7.750000</td>\n",
       "      <td>9.742287</td>\n",
       "    </tr>\n",
       "    <tr>\n",
       "      <th>100</th>\n",
       "      <td>8.695733</td>\n",
       "      <td>8.864372</td>\n",
       "    </tr>\n",
       "    <tr>\n",
       "      <th>107</th>\n",
       "      <td>9.609606</td>\n",
       "      <td>9.614144</td>\n",
       "    </tr>\n",
       "    <tr>\n",
       "      <th>6</th>\n",
       "      <td>11.250000</td>\n",
       "      <td>9.678216</td>\n",
       "    </tr>\n",
       "    <tr>\n",
       "      <th>112</th>\n",
       "      <td>11.838690</td>\n",
       "      <td>9.068322</td>\n",
       "    </tr>\n",
       "    <tr>\n",
       "      <th>110</th>\n",
       "      <td>8.367332</td>\n",
       "      <td>7.987941</td>\n",
       "    </tr>\n",
       "    <tr>\n",
       "      <th>64</th>\n",
       "      <td>8.500000</td>\n",
       "      <td>8.120467</td>\n",
       "    </tr>\n",
       "    <tr>\n",
       "      <th>76</th>\n",
       "      <td>8.000000</td>\n",
       "      <td>8.868284</td>\n",
       "    </tr>\n",
       "    <tr>\n",
       "      <th>81</th>\n",
       "      <td>3.750000</td>\n",
       "      <td>8.477992</td>\n",
       "    </tr>\n",
       "  </tbody>\n",
       "</table>\n",
       "</div>"
      ],
      "text/plain": [
       "        y_test    y_pred\n",
       "69    4.250000  8.299465\n",
       "113  10.673446  8.730361\n",
       "105  11.657714  8.950434\n",
       "125   6.134386  7.508146\n",
       "26    8.000000  7.984500\n",
       "97    7.246924  7.712096\n",
       "79    7.750000  9.742287\n",
       "100   8.695733  8.864372\n",
       "107   9.609606  9.614144\n",
       "6    11.250000  9.678216\n",
       "112  11.838690  9.068322\n",
       "110   8.367332  7.987941\n",
       "64    8.500000  8.120467\n",
       "76    8.000000  8.868284\n",
       "81    3.750000  8.477992"
      ]
     },
     "execution_count": 32,
     "metadata": {},
     "output_type": "execute_result"
    }
   ],
   "source": [
    "comparison_table = pd.DataFrame({\"y_test\":y_test, \"y_pred\":y_pred})\n",
    "comparison_table"
   ]
  },
  {
   "cell_type": "markdown",
   "id": "b82b7d6f",
   "metadata": {},
   "source": [
    "#### Classification"
   ]
  },
  {
   "cell_type": "markdown",
   "id": "8e680463",
   "metadata": {},
   "source": [
    "Selanjutnya membuat model klasifikasi untuk prediksi menggunakan KNN classifier"
   ]
  },
  {
   "cell_type": "code",
   "execution_count": 33,
   "id": "32c915a5",
   "metadata": {},
   "outputs": [
    {
     "name": "stdout",
     "output_type": "stream",
     "text": [
      "Confusion Matrix\n",
      " [[6 0]\n",
      " [2 7]]\n",
      "Accuracy Score:  0.8666666666666667\n"
     ]
    }
   ],
   "source": [
    "X = df2.iloc[:, :-1].values\n",
    "y = df2.iloc[:, -1].values\n",
    "#Membuat model KNN berdasarkan data training yang sudah dibuat di tahap preprocess, gunakan metric pengukuran jarak 'euclidean'\n",
    "X_train, X_test, y_train, y_test = train_test_split(X, y, test_size = 0.1, random_state = 1)\n",
    "sc = StandardScaler()\n",
    "X_train = sc.fit_transform(X_train)\n",
    "X_test = sc.transform(X_test)\n",
    "classifier = KNeighborsClassifier(metric = \"euclidean\")\n",
    "classifier.fit(X_train, y_train)\n",
    "#Uji model dengan data test\n",
    "y_pred = classifier.predict(X_test)\n",
    "#Ukur akurasi dari model K-Nearest Neighbor\n",
    "cm = confusion_matrix(y_test, y_pred)\n",
    "print(\"Confusion Matrix\\n\", cm)\n",
    "print(\"Accuracy Score: \", accuracy_score(y_test, y_pred))"
   ]
  },
  {
   "cell_type": "code",
   "execution_count": 34,
   "id": "a4f63e9c",
   "metadata": {},
   "outputs": [
    {
     "data": {
      "text/html": [
       "<div>\n",
       "<style scoped>\n",
       "    .dataframe tbody tr th:only-of-type {\n",
       "        vertical-align: middle;\n",
       "    }\n",
       "\n",
       "    .dataframe tbody tr th {\n",
       "        vertical-align: top;\n",
       "    }\n",
       "\n",
       "    .dataframe thead th {\n",
       "        text-align: right;\n",
       "    }\n",
       "</style>\n",
       "<table border=\"1\" class=\"dataframe\">\n",
       "  <thead>\n",
       "    <tr style=\"text-align: right;\">\n",
       "      <th></th>\n",
       "      <th>y_test</th>\n",
       "      <th>y_pred</th>\n",
       "    </tr>\n",
       "  </thead>\n",
       "  <tbody>\n",
       "    <tr>\n",
       "      <th>0</th>\n",
       "      <td>1</td>\n",
       "      <td>1</td>\n",
       "    </tr>\n",
       "    <tr>\n",
       "      <th>1</th>\n",
       "      <td>0</td>\n",
       "      <td>0</td>\n",
       "    </tr>\n",
       "    <tr>\n",
       "      <th>2</th>\n",
       "      <td>1</td>\n",
       "      <td>1</td>\n",
       "    </tr>\n",
       "    <tr>\n",
       "      <th>3</th>\n",
       "      <td>0</td>\n",
       "      <td>0</td>\n",
       "    </tr>\n",
       "    <tr>\n",
       "      <th>4</th>\n",
       "      <td>0</td>\n",
       "      <td>0</td>\n",
       "    </tr>\n",
       "  </tbody>\n",
       "</table>\n",
       "</div>"
      ],
      "text/plain": [
       "   y_test  y_pred\n",
       "0       1       1\n",
       "1       0       0\n",
       "2       1       1\n",
       "3       0       0\n",
       "4       0       0"
      ]
     },
     "execution_count": 34,
     "metadata": {},
     "output_type": "execute_result"
    }
   ],
   "source": [
    "comparison_table = pd.DataFrame({\"y_test\":y_test, \"y_pred\":y_pred})\n",
    "comparison_table.head()"
   ]
  },
  {
   "cell_type": "markdown",
   "id": "87b1d5fd",
   "metadata": {},
   "source": [
    "#### Clustering"
   ]
  },
  {
   "cell_type": "markdown",
   "id": "d1487c05",
   "metadata": {},
   "source": [
    "Dengan elbow method, menggunakan range elbow range(1, 11)"
   ]
  },
  {
   "cell_type": "code",
   "execution_count": 35,
   "id": "fc471aee",
   "metadata": {},
   "outputs": [
    {
     "name": "stderr",
     "output_type": "stream",
     "text": [
      "C:\\Users\\cliff\\anaconda3\\lib\\site-packages\\sklearn\\cluster\\_kmeans.py:1334: UserWarning: KMeans is known to have a memory leak on Windows with MKL, when there are less chunks than available threads. You can avoid it by setting the environment variable OMP_NUM_THREADS=1.\n",
      "  warnings.warn(\n",
      "C:\\Users\\cliff\\anaconda3\\lib\\site-packages\\sklearn\\cluster\\_kmeans.py:1334: UserWarning: KMeans is known to have a memory leak on Windows with MKL, when there are less chunks than available threads. You can avoid it by setting the environment variable OMP_NUM_THREADS=1.\n",
      "  warnings.warn(\n",
      "C:\\Users\\cliff\\anaconda3\\lib\\site-packages\\sklearn\\cluster\\_kmeans.py:1334: UserWarning: KMeans is known to have a memory leak on Windows with MKL, when there are less chunks than available threads. You can avoid it by setting the environment variable OMP_NUM_THREADS=1.\n",
      "  warnings.warn(\n",
      "C:\\Users\\cliff\\anaconda3\\lib\\site-packages\\sklearn\\cluster\\_kmeans.py:1334: UserWarning: KMeans is known to have a memory leak on Windows with MKL, when there are less chunks than available threads. You can avoid it by setting the environment variable OMP_NUM_THREADS=1.\n",
      "  warnings.warn(\n",
      "C:\\Users\\cliff\\anaconda3\\lib\\site-packages\\sklearn\\cluster\\_kmeans.py:1334: UserWarning: KMeans is known to have a memory leak on Windows with MKL, when there are less chunks than available threads. You can avoid it by setting the environment variable OMP_NUM_THREADS=1.\n",
      "  warnings.warn(\n",
      "C:\\Users\\cliff\\anaconda3\\lib\\site-packages\\sklearn\\cluster\\_kmeans.py:1334: UserWarning: KMeans is known to have a memory leak on Windows with MKL, when there are less chunks than available threads. You can avoid it by setting the environment variable OMP_NUM_THREADS=1.\n",
      "  warnings.warn(\n",
      "C:\\Users\\cliff\\anaconda3\\lib\\site-packages\\sklearn\\cluster\\_kmeans.py:1334: UserWarning: KMeans is known to have a memory leak on Windows with MKL, when there are less chunks than available threads. You can avoid it by setting the environment variable OMP_NUM_THREADS=1.\n",
      "  warnings.warn(\n",
      "C:\\Users\\cliff\\anaconda3\\lib\\site-packages\\sklearn\\cluster\\_kmeans.py:1334: UserWarning: KMeans is known to have a memory leak on Windows with MKL, when there are less chunks than available threads. You can avoid it by setting the environment variable OMP_NUM_THREADS=1.\n",
      "  warnings.warn(\n",
      "C:\\Users\\cliff\\anaconda3\\lib\\site-packages\\sklearn\\cluster\\_kmeans.py:1334: UserWarning: KMeans is known to have a memory leak on Windows with MKL, when there are less chunks than available threads. You can avoid it by setting the environment variable OMP_NUM_THREADS=1.\n",
      "  warnings.warn(\n",
      "C:\\Users\\cliff\\anaconda3\\lib\\site-packages\\sklearn\\cluster\\_kmeans.py:1334: UserWarning: KMeans is known to have a memory leak on Windows with MKL, when there are less chunks than available threads. You can avoid it by setting the environment variable OMP_NUM_THREADS=1.\n",
      "  warnings.warn(\n"
     ]
    }
   ],
   "source": [
    "scale = StandardScaler()\n",
    "dfscale = scale.fit_transform(df2)\n",
    "# set the parameter for evaluating K\n",
    "kmeans_kwargs = {\"init\": \"k-means++\",\"n_init\": 10,\"max_iter\": 300,\"random_state\": 42}\n",
    "sse = []\n",
    "# check the inertia for each K\n",
    "for k in range(1, 11):\n",
    "    kmeansmodel = KMeans(n_clusters=k, **kmeans_kwargs)\n",
    "    kmeansmodel.fit(dfscale)\n",
    "    sse.append(kmeansmodel.inertia_)"
   ]
  },
  {
   "cell_type": "markdown",
   "id": "aa338d21",
   "metadata": {},
   "source": [
    "Training model K-Means pada dataset dengan jumlah cluster yang Anda tentukan"
   ]
  },
  {
   "cell_type": "code",
   "execution_count": 36,
   "id": "b9cb81b3",
   "metadata": {},
   "outputs": [
    {
     "data": {
      "image/png": "[encoded data removed]",
      "text/plain": [
       "<Figure size 640x480 with 1 Axes>"
      ]
     },
     "metadata": {},
     "output_type": "display_data"
    }
   ],
   "source": [
    "plt.plot(range(1, 11), sse)\n",
    "plt.xticks(range(1, 11))\n",
    "plt.xlabel(\"Number of Clusters\")\n",
    "plt.ylabel(\"SSE\")\n",
    "plt.show()"
   ]
  },
  {
   "cell_type": "markdown",
   "id": "72394038",
   "metadata": {},
   "source": [
    "Menggunakan Kneelocator untuk mencari elbow"
   ]
  },
  {
   "cell_type": "code",
   "execution_count": 37,
   "id": "aa70936c",
   "metadata": {},
   "outputs": [
    {
     "data": {
      "text/plain": [
       "4"
      ]
     },
     "execution_count": 37,
     "metadata": {},
     "output_type": "execute_result"
    }
   ],
   "source": [
    "kl = KneeLocator(range(1, 11), sse, curve=\"convex\", direction=\"decreasing\")\n",
    "kl.elbow"
   ]
  },
  {
   "cell_type": "markdown",
   "id": "718a2ee8",
   "metadata": {},
   "source": [
    "Membagi menjadi 4 cluster"
   ]
  },
  {
   "cell_type": "code",
   "execution_count": 38,
   "id": "a9b2daf8",
   "metadata": {},
   "outputs": [
    {
     "name": "stderr",
     "output_type": "stream",
     "text": [
      "C:\\Users\\cliff\\anaconda3\\lib\\site-packages\\sklearn\\cluster\\_kmeans.py:1334: UserWarning: KMeans is known to have a memory leak on Windows with MKL, when there are less chunks than available threads. You can avoid it by setting the environment variable OMP_NUM_THREADS=1.\n",
      "  warnings.warn(\n"
     ]
    },
    {
     "data": {
      "text/html": [
       "<div>\n",
       "<style scoped>\n",
       "    .dataframe tbody tr th:only-of-type {\n",
       "        vertical-align: middle;\n",
       "    }\n",
       "\n",
       "    .dataframe tbody tr th {\n",
       "        vertical-align: top;\n",
       "    }\n",
       "\n",
       "    .dataframe thead th {\n",
       "        text-align: right;\n",
       "    }\n",
       "</style>\n",
       "<table border=\"1\" class=\"dataframe\">\n",
       "  <thead>\n",
       "    <tr style=\"text-align: right;\">\n",
       "      <th></th>\n",
       "      <th>gender</th>\n",
       "      <th>age</th>\n",
       "      <th>number_of_warts</th>\n",
       "      <th>area</th>\n",
       "      <th>induration_diameter</th>\n",
       "      <th>type</th>\n",
       "      <th>time</th>\n",
       "      <th>result_of_treatment</th>\n",
       "      <th>Cluster</th>\n",
       "    </tr>\n",
       "  </thead>\n",
       "  <tbody>\n",
       "    <tr>\n",
       "      <th>0</th>\n",
       "      <td>1</td>\n",
       "      <td>15</td>\n",
       "      <td>6</td>\n",
       "      <td>30</td>\n",
       "      <td>25</td>\n",
       "      <td>1</td>\n",
       "      <td>11.00</td>\n",
       "      <td>0</td>\n",
       "      <td>0</td>\n",
       "    </tr>\n",
       "    <tr>\n",
       "      <th>1</th>\n",
       "      <td>1</td>\n",
       "      <td>27</td>\n",
       "      <td>6</td>\n",
       "      <td>208</td>\n",
       "      <td>6</td>\n",
       "      <td>1</td>\n",
       "      <td>11.75</td>\n",
       "      <td>0</td>\n",
       "      <td>0</td>\n",
       "    </tr>\n",
       "    <tr>\n",
       "      <th>2</th>\n",
       "      <td>1</td>\n",
       "      <td>32</td>\n",
       "      <td>9</td>\n",
       "      <td>43</td>\n",
       "      <td>50</td>\n",
       "      <td>1</td>\n",
       "      <td>12.00</td>\n",
       "      <td>0</td>\n",
       "      <td>0</td>\n",
       "    </tr>\n",
       "    <tr>\n",
       "      <th>3</th>\n",
       "      <td>1</td>\n",
       "      <td>33</td>\n",
       "      <td>7</td>\n",
       "      <td>379</td>\n",
       "      <td>7</td>\n",
       "      <td>2</td>\n",
       "      <td>1.75</td>\n",
       "      <td>0</td>\n",
       "      <td>0</td>\n",
       "    </tr>\n",
       "    <tr>\n",
       "      <th>4</th>\n",
       "      <td>1</td>\n",
       "      <td>34</td>\n",
       "      <td>7</td>\n",
       "      <td>64</td>\n",
       "      <td>7</td>\n",
       "      <td>3</td>\n",
       "      <td>5.00</td>\n",
       "      <td>0</td>\n",
       "      <td>1</td>\n",
       "    </tr>\n",
       "  </tbody>\n",
       "</table>\n",
       "</div>"
      ],
      "text/plain": [
       "   gender  age  number_of_warts  area  induration_diameter  type   time  \\\n",
       "0       1   15                6    30                   25     1  11.00   \n",
       "1       1   27                6   208                    6     1  11.75   \n",
       "2       1   32                9    43                   50     1  12.00   \n",
       "3       1   33                7   379                    7     2   1.75   \n",
       "4       1   34                7    64                    7     3   5.00   \n",
       "\n",
       "   result_of_treatment  Cluster  \n",
       "0                    0        0  \n",
       "1                    0        0  \n",
       "2                    0        0  \n",
       "3                    0        0  \n",
       "4                    0        1  "
      ]
     },
     "execution_count": 38,
     "metadata": {},
     "output_type": "execute_result"
    }
   ],
   "source": [
    "kmeans = KMeans(n_clusters=4,init=\"random\").fit(dfscale)\n",
    "sse.append(kmeansmodel.inertia_)\n",
    "df_kmeans = kmeans.predict(dfscale)\n",
    "df2[\"Cluster\"]=df_kmeans\n",
    "df2.head()"
   ]
  },
  {
   "cell_type": "markdown",
   "id": "58dde91b",
   "metadata": {},
   "source": [
    "Menghitung jumlah cluster"
   ]
  },
  {
   "cell_type": "code",
   "execution_count": 39,
   "id": "4945064f",
   "metadata": {},
   "outputs": [
    {
     "data": {
      "text/html": [
       "<div>\n",
       "<style scoped>\n",
       "    .dataframe tbody tr th:only-of-type {\n",
       "        vertical-align: middle;\n",
       "    }\n",
       "\n",
       "    .dataframe tbody tr th {\n",
       "        vertical-align: top;\n",
       "    }\n",
       "\n",
       "    .dataframe thead th {\n",
       "        text-align: right;\n",
       "    }\n",
       "</style>\n",
       "<table border=\"1\" class=\"dataframe\">\n",
       "  <thead>\n",
       "    <tr style=\"text-align: right;\">\n",
       "      <th></th>\n",
       "      <th>Gender</th>\n",
       "      <th>Age</th>\n",
       "      <th>Time</th>\n",
       "      <th>Number_of_Warts</th>\n",
       "      <th>Type</th>\n",
       "      <th>Area</th>\n",
       "      <th>Induration_Diameter</th>\n",
       "      <th>Result_of_Treatment</th>\n",
       "      <th>Count</th>\n",
       "    </tr>\n",
       "    <tr>\n",
       "      <th>Cluster</th>\n",
       "      <th></th>\n",
       "      <th></th>\n",
       "      <th></th>\n",
       "      <th></th>\n",
       "      <th></th>\n",
       "      <th></th>\n",
       "      <th></th>\n",
       "      <th></th>\n",
       "      <th></th>\n",
       "    </tr>\n",
       "  </thead>\n",
       "  <tbody>\n",
       "    <tr>\n",
       "      <th>0</th>\n",
       "      <td>1</td>\n",
       "      <td>36.511111</td>\n",
       "      <td>9.632347</td>\n",
       "      <td>6.488889</td>\n",
       "      <td>1</td>\n",
       "      <td>100.577778</td>\n",
       "      <td>14.022222</td>\n",
       "      <td>0</td>\n",
       "      <td>45</td>\n",
       "    </tr>\n",
       "    <tr>\n",
       "      <th>1</th>\n",
       "      <td>1</td>\n",
       "      <td>30.125000</td>\n",
       "      <td>4.834167</td>\n",
       "      <td>8.208333</td>\n",
       "      <td>3</td>\n",
       "      <td>86.375000</td>\n",
       "      <td>25.166667</td>\n",
       "      <td>1</td>\n",
       "      <td>24</td>\n",
       "    </tr>\n",
       "    <tr>\n",
       "      <th>2</th>\n",
       "      <td>2</td>\n",
       "      <td>24.000000</td>\n",
       "      <td>6.662087</td>\n",
       "      <td>4.279070</td>\n",
       "      <td>1</td>\n",
       "      <td>92.046512</td>\n",
       "      <td>7.860465</td>\n",
       "      <td>1</td>\n",
       "      <td>43</td>\n",
       "    </tr>\n",
       "    <tr>\n",
       "      <th>3</th>\n",
       "      <td>2</td>\n",
       "      <td>39.833333</td>\n",
       "      <td>10.072730</td>\n",
       "      <td>6.866667</td>\n",
       "      <td>1</td>\n",
       "      <td>65.933333</td>\n",
       "      <td>11.833333</td>\n",
       "      <td>0</td>\n",
       "      <td>30</td>\n",
       "    </tr>\n",
       "  </tbody>\n",
       "</table>\n",
       "</div>"
      ],
      "text/plain": [
       "         Gender        Age       Time  Number_of_Warts  Type        Area  \\\n",
       "Cluster                                                                    \n",
       "0             1  36.511111   9.632347         6.488889     1  100.577778   \n",
       "1             1  30.125000   4.834167         8.208333     3   86.375000   \n",
       "2             2  24.000000   6.662087         4.279070     1   92.046512   \n",
       "3             2  39.833333  10.072730         6.866667     1   65.933333   \n",
       "\n",
       "         Induration_Diameter  Result_of_Treatment  Count  \n",
       "Cluster                                                   \n",
       "0                  14.022222                    0     45  \n",
       "1                  25.166667                    1     24  \n",
       "2                   7.860465                    1     43  \n",
       "3                  11.833333                    0     30  "
      ]
     },
     "execution_count": 39,
     "metadata": {},
     "output_type": "execute_result"
    }
   ],
   "source": [
    "df2.groupby(\"Cluster\").agg(Gender = ('gender', pd.Series.mode), \n",
    "                          Age = ('age', 'mean'), \n",
    "                          Time = ('time', 'mean'), \n",
    "                          Number_of_Warts = ('number_of_warts', 'mean'), \n",
    "                          Type = ('type', pd.Series.mode), \n",
    "                          Area = ('area', 'mean'), \n",
    "                          Induration_Diameter = ('induration_diameter', 'mean'), \n",
    "                          Result_of_Treatment = ('result_of_treatment', pd.Series.mode), \n",
    "                          Count = ('Cluster', 'count'))"
   ]
  }
 ],
 "metadata": {
  "kernelspec": {
   "display_name": "Python 3 (ipykernel)",
   "language": "python",
   "name": "python3"
  },
  "language_info": {
   "codemirror_mode": {
    "name": "ipython",
    "version": 3
   },
   "file_extension": ".py",
   "mimetype": "text/x-python",
   "name": "python",
   "nbconvert_exporter": "python",
   "pygments_lexer": "ipython3",
   "version": "3.8.8"
  }
 },
 "nbformat": 4,
 "nbformat_minor": 5
}
