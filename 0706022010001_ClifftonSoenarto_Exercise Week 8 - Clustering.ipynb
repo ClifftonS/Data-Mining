{
 "cells": [
  {
   "cell_type": "markdown",
   "id": "79165d30",
   "metadata": {},
   "source": [
    "# Nama/NIM: Cliffton S/0706022010001"
   ]
  },
  {
   "cell_type": "markdown",
   "id": "c4f2870d",
   "metadata": {},
   "source": [
    "Insert Library Yang Dibutuhkan"
   ]
  },
  {
   "cell_type": "code",
   "execution_count": 1,
   "id": "31fb49d6",
   "metadata": {},
   "outputs": [],
   "source": [
    "import numpy as np\n",
    "import pandas as pd\n",
    "from matplotlib import pyplot as plt\n",
    "from sklearn.preprocessing import StandardScaler\n",
    "from sklearn.preprocessing import LabelEncoder\n",
    "import seaborn\n",
    "from sklearn.cluster import KMeans\n",
    "from sklearn.datasets import make_blobs\n",
    "from kneed import KneeLocator\n",
    "from scipy.cluster.hierarchy import dendrogram, linkage\n",
    "import statistics\n",
    "from sklearn.cluster import AgglomerativeClustering\n",
    "from sklearn.impute import SimpleImputer"
   ]
  },
  {
   "cell_type": "markdown",
   "id": "f438c217",
   "metadata": {},
   "source": [
    "Load Dataset"
   ]
  },
  {
   "cell_type": "code",
   "execution_count": 2,
   "id": "39e0ce0e",
   "metadata": {},
   "outputs": [
    {
     "data": {
      "text/html": [
       "<div>\n",
       "<style scoped>\n",
       "    .dataframe tbody tr th:only-of-type {\n",
       "        vertical-align: middle;\n",
       "    }\n",
       "\n",
       "    .dataframe tbody tr th {\n",
       "        vertical-align: top;\n",
       "    }\n",
       "\n",
       "    .dataframe thead th {\n",
       "        text-align: right;\n",
       "    }\n",
       "</style>\n",
       "<table border=\"1\" class=\"dataframe\">\n",
       "  <thead>\n",
       "    <tr style=\"text-align: right;\">\n",
       "      <th></th>\n",
       "      <th>Area Category</th>\n",
       "      <th>Nama Daerah</th>\n",
       "      <th>Luas Tanah (m2)</th>\n",
       "      <th>Luas Bangunan (m2)</th>\n",
       "      <th>Jumlah Kamar</th>\n",
       "      <th>Jumlah Kamar Mandi</th>\n",
       "      <th>Tingkat/Lantai</th>\n",
       "      <th>Harga Penawaran (dari Owner)</th>\n",
       "      <th>Terjual/Belum</th>\n",
       "      <th>Arah Hadap Rumah</th>\n",
       "      <th>Posisi Rumah</th>\n",
       "      <th>Lebar Jalan Depan Rumah (ROW)</th>\n",
       "    </tr>\n",
       "  </thead>\n",
       "  <tbody>\n",
       "    <tr>\n",
       "      <th>0</th>\n",
       "      <td>NaN</td>\n",
       "      <td>NaN</td>\n",
       "      <td>NaN</td>\n",
       "      <td>NaN</td>\n",
       "      <td>NaN</td>\n",
       "      <td>NaN</td>\n",
       "      <td>NaN</td>\n",
       "      <td>NaN</td>\n",
       "      <td>NaN</td>\n",
       "      <td>NaN</td>\n",
       "      <td>NaN</td>\n",
       "      <td>NaN</td>\n",
       "    </tr>\n",
       "    <tr>\n",
       "      <th>1</th>\n",
       "      <td>Below Standard</td>\n",
       "      <td>Setro Baru Utara</td>\n",
       "      <td>30.0</td>\n",
       "      <td>60.0</td>\n",
       "      <td>2.0</td>\n",
       "      <td>1.0</td>\n",
       "      <td>2.0</td>\n",
       "      <td>287799000</td>\n",
       "      <td>Belum</td>\n",
       "      <td>NaN</td>\n",
       "      <td>Standard</td>\n",
       "      <td>&lt; 1 Mobil</td>\n",
       "    </tr>\n",
       "    <tr>\n",
       "      <th>2</th>\n",
       "      <td>Standard</td>\n",
       "      <td>Kenjeran</td>\n",
       "      <td>170.0</td>\n",
       "      <td>170.0</td>\n",
       "      <td>5.0</td>\n",
       "      <td>4.0</td>\n",
       "      <td>2.0</td>\n",
       "      <td>2699999999</td>\n",
       "      <td>Belum</td>\n",
       "      <td>Selatan</td>\n",
       "      <td>Cul De Sac/Ujung Gang Buntu</td>\n",
       "      <td>1-2 Mobil</td>\n",
       "    </tr>\n",
       "    <tr>\n",
       "      <th>3</th>\n",
       "      <td>Sangat Premium</td>\n",
       "      <td>Kenjeran</td>\n",
       "      <td>187.0</td>\n",
       "      <td>250.0</td>\n",
       "      <td>5.0</td>\n",
       "      <td>5.0</td>\n",
       "      <td>2.0</td>\n",
       "      <td>3100000000</td>\n",
       "      <td>Belum</td>\n",
       "      <td>Utara</td>\n",
       "      <td>Standard</td>\n",
       "      <td>1-2 Mobil</td>\n",
       "    </tr>\n",
       "    <tr>\n",
       "      <th>4</th>\n",
       "      <td>Premium</td>\n",
       "      <td>Kenjeran</td>\n",
       "      <td>350.0</td>\n",
       "      <td>600.0</td>\n",
       "      <td>5.0</td>\n",
       "      <td>5.0</td>\n",
       "      <td>2.0</td>\n",
       "      <td>5000000000</td>\n",
       "      <td>Belum</td>\n",
       "      <td>Barat</td>\n",
       "      <td>Standard</td>\n",
       "      <td>1-2 Mobil</td>\n",
       "    </tr>\n",
       "  </tbody>\n",
       "</table>\n",
       "</div>"
      ],
      "text/plain": [
       "    Area Category       Nama Daerah  Luas Tanah (m2)  Luas Bangunan (m2)  \\\n",
       "0             NaN               NaN              NaN                 NaN   \n",
       "1  Below Standard  Setro Baru Utara             30.0                60.0   \n",
       "2        Standard          Kenjeran            170.0               170.0   \n",
       "3  Sangat Premium          Kenjeran            187.0               250.0   \n",
       "4         Premium          Kenjeran            350.0               600.0   \n",
       "\n",
       "   Jumlah Kamar  Jumlah Kamar Mandi  Tingkat/Lantai   \\\n",
       "0           NaN                 NaN              NaN   \n",
       "1           2.0                 1.0              2.0   \n",
       "2           5.0                 4.0              2.0   \n",
       "3           5.0                 5.0              2.0   \n",
       "4           5.0                 5.0              2.0   \n",
       "\n",
       "  Harga Penawaran (dari Owner) Terjual/Belum Arah Hadap Rumah  \\\n",
       "0                          NaN           NaN              NaN   \n",
       "1                    287799000         Belum              NaN   \n",
       "2                   2699999999         Belum          Selatan   \n",
       "3                   3100000000         Belum            Utara   \n",
       "4                   5000000000         Belum            Barat   \n",
       "\n",
       "                  Posisi Rumah Lebar Jalan Depan Rumah (ROW)  \n",
       "0                          NaN                           NaN  \n",
       "1                     Standard                     < 1 Mobil  \n",
       "2  Cul De Sac/Ujung Gang Buntu                     1-2 Mobil  \n",
       "3                     Standard                     1-2 Mobil  \n",
       "4                     Standard                     1-2 Mobil  "
      ]
     },
     "execution_count": 2,
     "metadata": {},
     "output_type": "execute_result"
    }
   ],
   "source": [
    "df = pd.read_csv(\"https://raw.githubusercontent.com/ClifftonS/Data-Mining/main/Property%20Dataset%20-%20Clustering%20-%20Data%20Rumah.csv\")\n",
    "df.head()"
   ]
  },
  {
   "cell_type": "markdown",
   "id": "43e2417d",
   "metadata": {},
   "source": [
    "Cek Missing Value"
   ]
  },
  {
   "cell_type": "code",
   "execution_count": 3,
   "id": "4118233d",
   "metadata": {},
   "outputs": [
    {
     "data": {
      "text/plain": [
       "Area Category                      1\n",
       "Nama Daerah                        1\n",
       "Luas Tanah (m2)                    1\n",
       "Luas Bangunan (m2)                 1\n",
       "Jumlah Kamar                       1\n",
       "Jumlah Kamar Mandi                 2\n",
       "Tingkat/Lantai                     2\n",
       "Harga Penawaran (dari Owner)       1\n",
       "Terjual/Belum                      1\n",
       "Arah Hadap Rumah                  83\n",
       "Posisi Rumah                     116\n",
       "Lebar Jalan Depan Rumah (ROW)     42\n",
       "dtype: int64"
      ]
     },
     "execution_count": 3,
     "metadata": {},
     "output_type": "execute_result"
    }
   ],
   "source": [
    "df.isnull().sum()"
   ]
  },
  {
   "cell_type": "markdown",
   "id": "ccc4bdbe",
   "metadata": {},
   "source": [
    "Menghapus dan mengisi missing value"
   ]
  },
  {
   "cell_type": "code",
   "execution_count": 4,
   "id": "1fea9f1c",
   "metadata": {},
   "outputs": [
    {
     "data": {
      "text/plain": [
       "Area Category                    0\n",
       "Nama Daerah                      0\n",
       "Luas Tanah (m2)                  0\n",
       "Luas Bangunan (m2)               0\n",
       "Jumlah Kamar                     0\n",
       "Jumlah Kamar Mandi               0\n",
       "Tingkat/Lantai                   0\n",
       "Harga Penawaran (dari Owner)     0\n",
       "Terjual/Belum                    0\n",
       "Arah Hadap Rumah                 0\n",
       "Posisi Rumah                     0\n",
       "Lebar Jalan Depan Rumah (ROW)    0\n",
       "dtype: int64"
      ]
     },
     "execution_count": 4,
     "metadata": {},
     "output_type": "execute_result"
    }
   ],
   "source": [
    "#mengisi dengan menggunakan modus\n",
    "imputer = SimpleImputer(strategy='most_frequent')\n",
    "df.iloc[:,:] = imputer.fit_transform(df)\n",
    "df.isnull().sum()"
   ]
  },
  {
   "cell_type": "markdown",
   "id": "22d5e320",
   "metadata": {},
   "source": [
    "Mengubah data tipe kategori menggunakan labelencoder"
   ]
  },
  {
   "cell_type": "code",
   "execution_count": 5,
   "id": "796d00db",
   "metadata": {},
   "outputs": [
    {
     "data": {
      "text/html": [
       "<div>\n",
       "<style scoped>\n",
       "    .dataframe tbody tr th:only-of-type {\n",
       "        vertical-align: middle;\n",
       "    }\n",
       "\n",
       "    .dataframe tbody tr th {\n",
       "        vertical-align: top;\n",
       "    }\n",
       "\n",
       "    .dataframe thead th {\n",
       "        text-align: right;\n",
       "    }\n",
       "</style>\n",
       "<table border=\"1\" class=\"dataframe\">\n",
       "  <thead>\n",
       "    <tr style=\"text-align: right;\">\n",
       "      <th></th>\n",
       "      <th>Area Category</th>\n",
       "      <th>Nama Daerah</th>\n",
       "      <th>Luas Tanah (m2)</th>\n",
       "      <th>Luas Bangunan (m2)</th>\n",
       "      <th>Jumlah Kamar</th>\n",
       "      <th>Jumlah Kamar Mandi</th>\n",
       "      <th>Tingkat/Lantai</th>\n",
       "      <th>Harga Penawaran (dari Owner)</th>\n",
       "      <th>Terjual/Belum</th>\n",
       "      <th>Arah Hadap Rumah</th>\n",
       "      <th>Posisi Rumah</th>\n",
       "      <th>Lebar Jalan Depan Rumah (ROW)</th>\n",
       "    </tr>\n",
       "  </thead>\n",
       "  <tbody>\n",
       "    <tr>\n",
       "      <th>0</th>\n",
       "      <td>3</td>\n",
       "      <td>11</td>\n",
       "      <td>240.0</td>\n",
       "      <td>300.0</td>\n",
       "      <td>4.0</td>\n",
       "      <td>3.0</td>\n",
       "      <td>2.0</td>\n",
       "      <td>94</td>\n",
       "      <td>0</td>\n",
       "      <td>3</td>\n",
       "      <td>2</td>\n",
       "      <td>0</td>\n",
       "    </tr>\n",
       "    <tr>\n",
       "      <th>1</th>\n",
       "      <td>0</td>\n",
       "      <td>100</td>\n",
       "      <td>30.0</td>\n",
       "      <td>60.0</td>\n",
       "      <td>2.0</td>\n",
       "      <td>1.0</td>\n",
       "      <td>2.0</td>\n",
       "      <td>79</td>\n",
       "      <td>0</td>\n",
       "      <td>3</td>\n",
       "      <td>2</td>\n",
       "      <td>1</td>\n",
       "    </tr>\n",
       "    <tr>\n",
       "      <th>2</th>\n",
       "      <td>3</td>\n",
       "      <td>48</td>\n",
       "      <td>170.0</td>\n",
       "      <td>170.0</td>\n",
       "      <td>5.0</td>\n",
       "      <td>4.0</td>\n",
       "      <td>2.0</td>\n",
       "      <td>74</td>\n",
       "      <td>0</td>\n",
       "      <td>1</td>\n",
       "      <td>0</td>\n",
       "      <td>0</td>\n",
       "    </tr>\n",
       "    <tr>\n",
       "      <th>3</th>\n",
       "      <td>2</td>\n",
       "      <td>48</td>\n",
       "      <td>187.0</td>\n",
       "      <td>250.0</td>\n",
       "      <td>5.0</td>\n",
       "      <td>5.0</td>\n",
       "      <td>2.0</td>\n",
       "      <td>84</td>\n",
       "      <td>0</td>\n",
       "      <td>3</td>\n",
       "      <td>2</td>\n",
       "      <td>0</td>\n",
       "    </tr>\n",
       "    <tr>\n",
       "      <th>4</th>\n",
       "      <td>1</td>\n",
       "      <td>48</td>\n",
       "      <td>350.0</td>\n",
       "      <td>600.0</td>\n",
       "      <td>5.0</td>\n",
       "      <td>5.0</td>\n",
       "      <td>2.0</td>\n",
       "      <td>124</td>\n",
       "      <td>0</td>\n",
       "      <td>0</td>\n",
       "      <td>2</td>\n",
       "      <td>0</td>\n",
       "    </tr>\n",
       "  </tbody>\n",
       "</table>\n",
       "</div>"
      ],
      "text/plain": [
       "   Area Category  Nama Daerah  Luas Tanah (m2)  Luas Bangunan (m2)  \\\n",
       "0              3           11            240.0               300.0   \n",
       "1              0          100             30.0                60.0   \n",
       "2              3           48            170.0               170.0   \n",
       "3              2           48            187.0               250.0   \n",
       "4              1           48            350.0               600.0   \n",
       "\n",
       "   Jumlah Kamar  Jumlah Kamar Mandi  Tingkat/Lantai   \\\n",
       "0           4.0                 3.0              2.0   \n",
       "1           2.0                 1.0              2.0   \n",
       "2           5.0                 4.0              2.0   \n",
       "3           5.0                 5.0              2.0   \n",
       "4           5.0                 5.0              2.0   \n",
       "\n",
       "   Harga Penawaran (dari Owner)  Terjual/Belum  Arah Hadap Rumah  \\\n",
       "0                            94              0                 3   \n",
       "1                            79              0                 3   \n",
       "2                            74              0                 1   \n",
       "3                            84              0                 3   \n",
       "4                           124              0                 0   \n",
       "\n",
       "   Posisi Rumah  Lebar Jalan Depan Rumah (ROW)  \n",
       "0             2                              0  \n",
       "1             2                              1  \n",
       "2             0                              0  \n",
       "3             2                              0  \n",
       "4             2                              0  "
      ]
     },
     "execution_count": 5,
     "metadata": {},
     "output_type": "execute_result"
    }
   ],
   "source": [
    "lb = LabelEncoder()\n",
    "df[\"Area Category\"] = lb.fit_transform(df[\"Area Category\"])\n",
    "df[\"Nama Daerah\"] = lb.fit_transform(df[\"Nama Daerah\"])\n",
    "df[\"Harga Penawaran (dari Owner)\"] = lb.fit_transform(df[\"Harga Penawaran (dari Owner)\"])\n",
    "df[\"Terjual/Belum\"] = lb.fit_transform(df[\"Terjual/Belum\"])\n",
    "df[\"Arah Hadap Rumah\"] = lb.fit_transform(df[\"Arah Hadap Rumah\"])\n",
    "df[\"Posisi Rumah\"] = lb.fit_transform(df[\"Posisi Rumah\"])\n",
    "df[\"Lebar Jalan Depan Rumah (ROW)\"] = lb.fit_transform(df[\"Lebar Jalan Depan Rumah (ROW)\"])\n",
    "df.head()"
   ]
  },
  {
   "cell_type": "markdown",
   "id": "e332eb83",
   "metadata": {},
   "source": [
    "Scaling data dengan standarization method"
   ]
  },
  {
   "cell_type": "code",
   "execution_count": 6,
   "id": "f956ecc3",
   "metadata": {},
   "outputs": [
    {
     "data": {
      "text/plain": [
       "array([[ 1.00437212, -1.37074241,  0.0647599 , ...,  0.83949741,\n",
       "        -0.18806854, -0.8255808 ],\n",
       "       [-1.67782395,  1.04750903, -0.97745709, ...,  0.83949741,\n",
       "        -0.18806854,  0.22083437],\n",
       "       [ 1.00437212, -0.36540192, -0.28264577, ..., -1.14184513,\n",
       "        -5.4539876 , -0.8255808 ],\n",
       "       ...,\n",
       "       [-0.78375859,  0.31388219, -0.62012555, ..., -1.14184513,\n",
       "        -0.18806854, -0.8255808 ],\n",
       "       [ 1.00437212,  1.18336586, -0.63997731, ...,  0.83949741,\n",
       "        -0.18806854,  1.26724954],\n",
       "       [-1.67782395,  1.50942223, -0.16849819, ...,  0.83949741,\n",
       "        -0.18806854,  1.26724954]])"
      ]
     },
     "execution_count": 6,
     "metadata": {},
     "output_type": "execute_result"
    }
   ],
   "source": [
    "scale = StandardScaler()\n",
    "dfscale = scale.fit_transform(df)\n",
    "dfscale"
   ]
  },
  {
   "cell_type": "markdown",
   "id": "cf14b186",
   "metadata": {},
   "source": [
    "# K-Means Clustering"
   ]
  },
  {
   "cell_type": "markdown",
   "id": "3edeb27e",
   "metadata": {},
   "source": [
    "Dengan elbow method, menggunakan range elbow range(1, 11)"
   ]
  },
  {
   "cell_type": "code",
   "execution_count": 7,
   "id": "14ee4279",
   "metadata": {},
   "outputs": [
    {
     "name": "stderr",
     "output_type": "stream",
     "text": [
      "C:\\Users\\cliff\\anaconda3\\lib\\site-packages\\sklearn\\cluster\\_kmeans.py:881: UserWarning: KMeans is known to have a memory leak on Windows with MKL, when there are less chunks than available threads. You can avoid it by setting the environment variable OMP_NUM_THREADS=2.\n",
      "  warnings.warn(\n"
     ]
    }
   ],
   "source": [
    "# set the parameter for evaluating K\n",
    "kmeans_kwargs = {\"init\": \"k-means++\",\"n_init\": 10,\"max_iter\": 300,\"random_state\": 42}\n",
    "sse = []\n",
    "# check the inertia for each K\n",
    "for k in range(1, 11):\n",
    "    kmeansmodel = KMeans(n_clusters=k, **kmeans_kwargs)\n",
    "    kmeansmodel.fit(dfscale)\n",
    "    sse.append(kmeansmodel.inertia_)"
   ]
  },
  {
   "cell_type": "markdown",
   "id": "b9e08956",
   "metadata": {},
   "source": [
    "Training model K-Means pada dataset dengan jumlah cluster yang Anda tentukan"
   ]
  },
  {
   "cell_type": "code",
   "execution_count": 8,
   "id": "df98e23b",
   "metadata": {},
   "outputs": [
    {
     "data": {
      "image/png": "[encoded data removed]",
      "text/plain": [
       "<Figure size 432x288 with 1 Axes>"
      ]
     },
     "metadata": {
      "needs_background": "light"
     },
     "output_type": "display_data"
    }
   ],
   "source": [
    "plt.plot(range(1, 11), sse)\n",
    "plt.xticks(range(1, 11))\n",
    "plt.xlabel(\"Number of Clusters\")\n",
    "plt.ylabel(\"SSE\")\n",
    "plt.show()"
   ]
  },
  {
   "cell_type": "markdown",
   "id": "a995149d",
   "metadata": {},
   "source": [
    "Menggunakan Kneelocator untuk mencari elbow"
   ]
  },
  {
   "cell_type": "code",
   "execution_count": 9,
   "id": "d2a12d3e",
   "metadata": {},
   "outputs": [
    {
     "data": {
      "text/plain": [
       "4"
      ]
     },
     "execution_count": 9,
     "metadata": {},
     "output_type": "execute_result"
    }
   ],
   "source": [
    "kl = KneeLocator(range(1, 11), sse, curve=\"convex\", direction=\"decreasing\")\n",
    "kl.elbow"
   ]
  },
  {
   "cell_type": "markdown",
   "id": "0db20b9f",
   "metadata": {},
   "source": [
    "Membagi menjadi 4 cluster"
   ]
  },
  {
   "cell_type": "code",
   "execution_count": 10,
   "id": "78b09c31",
   "metadata": {},
   "outputs": [
    {
     "data": {
      "text/html": [
       "<div>\n",
       "<style scoped>\n",
       "    .dataframe tbody tr th:only-of-type {\n",
       "        vertical-align: middle;\n",
       "    }\n",
       "\n",
       "    .dataframe tbody tr th {\n",
       "        vertical-align: top;\n",
       "    }\n",
       "\n",
       "    .dataframe thead th {\n",
       "        text-align: right;\n",
       "    }\n",
       "</style>\n",
       "<table border=\"1\" class=\"dataframe\">\n",
       "  <thead>\n",
       "    <tr style=\"text-align: right;\">\n",
       "      <th></th>\n",
       "      <th>Area Category</th>\n",
       "      <th>Nama Daerah</th>\n",
       "      <th>Luas Tanah (m2)</th>\n",
       "      <th>Luas Bangunan (m2)</th>\n",
       "      <th>Jumlah Kamar</th>\n",
       "      <th>Jumlah Kamar Mandi</th>\n",
       "      <th>Tingkat/Lantai</th>\n",
       "      <th>Harga Penawaran (dari Owner)</th>\n",
       "      <th>Terjual/Belum</th>\n",
       "      <th>Arah Hadap Rumah</th>\n",
       "      <th>Posisi Rumah</th>\n",
       "      <th>Lebar Jalan Depan Rumah (ROW)</th>\n",
       "      <th>Cluster</th>\n",
       "    </tr>\n",
       "  </thead>\n",
       "  <tbody>\n",
       "    <tr>\n",
       "      <th>0</th>\n",
       "      <td>3</td>\n",
       "      <td>11</td>\n",
       "      <td>240.0</td>\n",
       "      <td>300.0</td>\n",
       "      <td>4.0</td>\n",
       "      <td>3.0</td>\n",
       "      <td>2.0</td>\n",
       "      <td>94</td>\n",
       "      <td>0</td>\n",
       "      <td>3</td>\n",
       "      <td>2</td>\n",
       "      <td>0</td>\n",
       "      <td>2</td>\n",
       "    </tr>\n",
       "    <tr>\n",
       "      <th>1</th>\n",
       "      <td>0</td>\n",
       "      <td>100</td>\n",
       "      <td>30.0</td>\n",
       "      <td>60.0</td>\n",
       "      <td>2.0</td>\n",
       "      <td>1.0</td>\n",
       "      <td>2.0</td>\n",
       "      <td>79</td>\n",
       "      <td>0</td>\n",
       "      <td>3</td>\n",
       "      <td>2</td>\n",
       "      <td>1</td>\n",
       "      <td>3</td>\n",
       "    </tr>\n",
       "    <tr>\n",
       "      <th>2</th>\n",
       "      <td>3</td>\n",
       "      <td>48</td>\n",
       "      <td>170.0</td>\n",
       "      <td>170.0</td>\n",
       "      <td>5.0</td>\n",
       "      <td>4.0</td>\n",
       "      <td>2.0</td>\n",
       "      <td>74</td>\n",
       "      <td>0</td>\n",
       "      <td>1</td>\n",
       "      <td>0</td>\n",
       "      <td>0</td>\n",
       "      <td>2</td>\n",
       "    </tr>\n",
       "    <tr>\n",
       "      <th>3</th>\n",
       "      <td>2</td>\n",
       "      <td>48</td>\n",
       "      <td>187.0</td>\n",
       "      <td>250.0</td>\n",
       "      <td>5.0</td>\n",
       "      <td>5.0</td>\n",
       "      <td>2.0</td>\n",
       "      <td>84</td>\n",
       "      <td>0</td>\n",
       "      <td>3</td>\n",
       "      <td>2</td>\n",
       "      <td>0</td>\n",
       "      <td>0</td>\n",
       "    </tr>\n",
       "    <tr>\n",
       "      <th>4</th>\n",
       "      <td>1</td>\n",
       "      <td>48</td>\n",
       "      <td>350.0</td>\n",
       "      <td>600.0</td>\n",
       "      <td>5.0</td>\n",
       "      <td>5.0</td>\n",
       "      <td>2.0</td>\n",
       "      <td>124</td>\n",
       "      <td>0</td>\n",
       "      <td>0</td>\n",
       "      <td>2</td>\n",
       "      <td>0</td>\n",
       "      <td>0</td>\n",
       "    </tr>\n",
       "  </tbody>\n",
       "</table>\n",
       "</div>"
      ],
      "text/plain": [
       "   Area Category  Nama Daerah  Luas Tanah (m2)  Luas Bangunan (m2)  \\\n",
       "0              3           11            240.0               300.0   \n",
       "1              0          100             30.0                60.0   \n",
       "2              3           48            170.0               170.0   \n",
       "3              2           48            187.0               250.0   \n",
       "4              1           48            350.0               600.0   \n",
       "\n",
       "   Jumlah Kamar  Jumlah Kamar Mandi  Tingkat/Lantai   \\\n",
       "0           4.0                 3.0              2.0   \n",
       "1           2.0                 1.0              2.0   \n",
       "2           5.0                 4.0              2.0   \n",
       "3           5.0                 5.0              2.0   \n",
       "4           5.0                 5.0              2.0   \n",
       "\n",
       "   Harga Penawaran (dari Owner)  Terjual/Belum  Arah Hadap Rumah  \\\n",
       "0                            94              0                 3   \n",
       "1                            79              0                 3   \n",
       "2                            74              0                 1   \n",
       "3                            84              0                 3   \n",
       "4                           124              0                 0   \n",
       "\n",
       "   Posisi Rumah  Lebar Jalan Depan Rumah (ROW)  Cluster  \n",
       "0             2                              0        2  \n",
       "1             2                              1        3  \n",
       "2             0                              0        2  \n",
       "3             2                              0        0  \n",
       "4             2                              0        0  "
      ]
     },
     "execution_count": 10,
     "metadata": {},
     "output_type": "execute_result"
    }
   ],
   "source": [
    "kmeans = KMeans(n_clusters=4,init=\"random\").fit(dfscale)\n",
    "sse.append(kmeansmodel.inertia_)\n",
    "df_kmeans = kmeans.predict(dfscale)\n",
    "df[\"Cluster\"]=df_kmeans\n",
    "df.head()"
   ]
  },
  {
   "cell_type": "markdown",
   "id": "e94fcb23",
   "metadata": {},
   "source": [
    "Menghitung jumlah cluster"
   ]
  },
  {
   "cell_type": "code",
   "execution_count": 11,
   "id": "e1895aa1",
   "metadata": {},
   "outputs": [
    {
     "data": {
      "text/html": [
       "<div>\n",
       "<style scoped>\n",
       "    .dataframe tbody tr th:only-of-type {\n",
       "        vertical-align: middle;\n",
       "    }\n",
       "\n",
       "    .dataframe tbody tr th {\n",
       "        vertical-align: top;\n",
       "    }\n",
       "\n",
       "    .dataframe thead th {\n",
       "        text-align: right;\n",
       "    }\n",
       "</style>\n",
       "<table border=\"1\" class=\"dataframe\">\n",
       "  <thead>\n",
       "    <tr style=\"text-align: right;\">\n",
       "      <th></th>\n",
       "      <th>Area_Category</th>\n",
       "      <th>Nama_Daerah</th>\n",
       "      <th>Luas_Tanah</th>\n",
       "      <th>Luas_Bangunan</th>\n",
       "      <th>Jumlah_Kamar</th>\n",
       "      <th>Jumlah_Kamar_Mandi</th>\n",
       "      <th>Tingkat_Lantai</th>\n",
       "      <th>Harga_Penawaran</th>\n",
       "      <th>Terjual_Belum</th>\n",
       "      <th>Arah_Hadap_Rumah</th>\n",
       "      <th>Posisi_Rumah</th>\n",
       "      <th>Lebar_Jalan_Depan_Rumah</th>\n",
       "      <th>Count</th>\n",
       "    </tr>\n",
       "    <tr>\n",
       "      <th>Cluster</th>\n",
       "      <th></th>\n",
       "      <th></th>\n",
       "      <th></th>\n",
       "      <th></th>\n",
       "      <th></th>\n",
       "      <th></th>\n",
       "      <th></th>\n",
       "      <th></th>\n",
       "      <th></th>\n",
       "      <th></th>\n",
       "      <th></th>\n",
       "      <th></th>\n",
       "      <th></th>\n",
       "    </tr>\n",
       "  </thead>\n",
       "  <tbody>\n",
       "    <tr>\n",
       "      <th>0</th>\n",
       "      <td>1</td>\n",
       "      <td>11</td>\n",
       "      <td>221.806122</td>\n",
       "      <td>294.234694</td>\n",
       "      <td>4.979592</td>\n",
       "      <td>4.142857</td>\n",
       "      <td>2.102041</td>\n",
       "      <td>104.244898</td>\n",
       "      <td>0</td>\n",
       "      <td>3</td>\n",
       "      <td>2</td>\n",
       "      <td>0</td>\n",
       "      <td>98</td>\n",
       "    </tr>\n",
       "    <tr>\n",
       "      <th>1</th>\n",
       "      <td>2</td>\n",
       "      <td>[11, 28, 82]</td>\n",
       "      <td>598.326087</td>\n",
       "      <td>654.152174</td>\n",
       "      <td>6.347826</td>\n",
       "      <td>5.173913</td>\n",
       "      <td>1.945652</td>\n",
       "      <td>69.260870</td>\n",
       "      <td>0</td>\n",
       "      <td>3</td>\n",
       "      <td>2</td>\n",
       "      <td>2</td>\n",
       "      <td>46</td>\n",
       "    </tr>\n",
       "    <tr>\n",
       "      <th>2</th>\n",
       "      <td>3</td>\n",
       "      <td>[11, 30, 73]</td>\n",
       "      <td>129.563636</td>\n",
       "      <td>151.236364</td>\n",
       "      <td>3.472727</td>\n",
       "      <td>2.554545</td>\n",
       "      <td>1.727273</td>\n",
       "      <td>77.436364</td>\n",
       "      <td>0</td>\n",
       "      <td>3</td>\n",
       "      <td>2</td>\n",
       "      <td>0</td>\n",
       "      <td>110</td>\n",
       "    </tr>\n",
       "    <tr>\n",
       "      <th>3</th>\n",
       "      <td>0</td>\n",
       "      <td>[11, 30, 114]</td>\n",
       "      <td>118.314815</td>\n",
       "      <td>121.814815</td>\n",
       "      <td>2.870370</td>\n",
       "      <td>1.907407</td>\n",
       "      <td>1.601852</td>\n",
       "      <td>59.703704</td>\n",
       "      <td>0</td>\n",
       "      <td>3</td>\n",
       "      <td>2</td>\n",
       "      <td>0</td>\n",
       "      <td>54</td>\n",
       "    </tr>\n",
       "  </tbody>\n",
       "</table>\n",
       "</div>"
      ],
      "text/plain": [
       "         Area_Category    Nama_Daerah  Luas_Tanah  Luas_Bangunan  \\\n",
       "Cluster                                                            \n",
       "0                    1             11  221.806122     294.234694   \n",
       "1                    2   [11, 28, 82]  598.326087     654.152174   \n",
       "2                    3   [11, 30, 73]  129.563636     151.236364   \n",
       "3                    0  [11, 30, 114]  118.314815     121.814815   \n",
       "\n",
       "         Jumlah_Kamar  Jumlah_Kamar_Mandi  Tingkat_Lantai  Harga_Penawaran  \\\n",
       "Cluster                                                                      \n",
       "0            4.979592            4.142857        2.102041       104.244898   \n",
       "1            6.347826            5.173913        1.945652        69.260870   \n",
       "2            3.472727            2.554545        1.727273        77.436364   \n",
       "3            2.870370            1.907407        1.601852        59.703704   \n",
       "\n",
       "         Terjual_Belum  Arah_Hadap_Rumah  Posisi_Rumah  \\\n",
       "Cluster                                                  \n",
       "0                    0                 3             2   \n",
       "1                    0                 3             2   \n",
       "2                    0                 3             2   \n",
       "3                    0                 3             2   \n",
       "\n",
       "         Lebar_Jalan_Depan_Rumah  Count  \n",
       "Cluster                                  \n",
       "0                              0     98  \n",
       "1                              2     46  \n",
       "2                              0    110  \n",
       "3                              0     54  "
      ]
     },
     "execution_count": 11,
     "metadata": {},
     "output_type": "execute_result"
    }
   ],
   "source": [
    "df.groupby(\"Cluster\").agg(Area_Category = ('Area Category',pd.Series.mode), Nama_Daerah = ('Nama Daerah',pd.Series.mode), Luas_Tanah = ('Luas Tanah (m2)', 'mean'), Luas_Bangunan = ('Luas Bangunan (m2)','mean'), Jumlah_Kamar = ('Jumlah Kamar','mean'), Jumlah_Kamar_Mandi = ('Jumlah Kamar Mandi','mean'), Tingkat_Lantai = ('Tingkat/Lantai ','mean'), Harga_Penawaran = ('Harga Penawaran (dari Owner)','mean'), Terjual_Belum = ('Terjual/Belum', pd.Series.mode), Arah_Hadap_Rumah = ('Arah Hadap Rumah', pd.Series.mode), Posisi_Rumah = ('Posisi Rumah', pd.Series.mode), Lebar_Jalan_Depan_Rumah = ('Lebar Jalan Depan Rumah (ROW)', pd.Series.mode), Count = (\"Cluster\",'count'))"
   ]
  },
  {
   "cell_type": "markdown",
   "id": "d441462a",
   "metadata": {},
   "source": [
    "# Hierarchical Clustering"
   ]
  },
  {
   "cell_type": "markdown",
   "id": "9c30bb24",
   "metadata": {},
   "source": [
    "Membuat plot dendogram"
   ]
  },
  {
   "cell_type": "code",
   "execution_count": 12,
   "id": "30fc7546",
   "metadata": {},
   "outputs": [
    {
     "data": {
      "image/png": "[encoded data removed]",
      "text/plain": [
       "<Figure size 1440x504 with 1 Axes>"
      ]
     },
     "metadata": {
      "needs_background": "light"
     },
     "output_type": "display_data"
    }
   ],
   "source": [
    "plt.figure(figsize=(20,7))\n",
    "linkage_data = linkage(dfscale, method='complete')\n",
    "dendrogram(linkage_data)\n",
    "plt.show()"
   ]
  },
  {
   "cell_type": "code",
   "execution_count": 13,
   "id": "0cd22afc",
   "metadata": {},
   "outputs": [
    {
     "data": {
      "image/png": "[encoded data removed]",
      "text/plain": [
       "<Figure size 1440x504 with 1 Axes>"
      ]
     },
     "metadata": {
      "needs_background": "light"
     },
     "output_type": "display_data"
    }
   ],
   "source": [
    "plt.figure(figsize=(20,7))\n",
    "linkage_data = linkage(dfscale, method='single')\n",
    "dendrogram(linkage_data)\n",
    "plt.show()"
   ]
  },
  {
   "cell_type": "code",
   "execution_count": 14,
   "id": "933e6a00",
   "metadata": {},
   "outputs": [
    {
     "data": {
      "image/png": "[encoded data removed]",
      "text/plain": [
       "<Figure size 1440x504 with 1 Axes>"
      ]
     },
     "metadata": {
      "needs_background": "light"
     },
     "output_type": "display_data"
    }
   ],
   "source": [
    "plt.figure(figsize=(20,7))\n",
    "linkage_data = linkage(dfscale, method='ward')\n",
    "dendrogram(linkage_data)\n",
    "plt.show()"
   ]
  },
  {
   "cell_type": "code",
   "execution_count": 15,
   "id": "5b70a6bd",
   "metadata": {},
   "outputs": [
    {
     "data": {
      "image/png": "[encoded data removed]",
      "text/plain": [
       "<Figure size 1440x504 with 1 Axes>"
      ]
     },
     "metadata": {
      "needs_background": "light"
     },
     "output_type": "display_data"
    }
   ],
   "source": [
    "plt.figure(figsize=(20,7))\n",
    "linkage_data = linkage(dfscale, method='average')\n",
    "dendrogram(linkage_data)\n",
    "plt.show()"
   ]
  },
  {
   "cell_type": "markdown",
   "id": "4a7e5554",
   "metadata": {},
   "source": [
    "Lakukan hierarchical clustering dengan metric Euclidean dan jumlah cluster sama dengan cluster Kmeans"
   ]
  },
  {
   "cell_type": "code",
   "execution_count": 16,
   "id": "d9f2fc77",
   "metadata": {},
   "outputs": [
    {
     "name": "stdout",
     "output_type": "stream",
     "text": [
      "[1 0 1 0 1 1 0 0 3 0 2 0 0 0 0 2 0 0 0 0 0 0 2 0 0 1 0 0 1 3 2 1 0 0 3 3 1\n",
      " 1 1 1 1 2 0 0 0 0 0 0 0 0 0 0 0 0 0 0 3 0 0 0 2 1 0 0 0 0 2 0 0 0 0 0 0 3\n",
      " 1 1 1 1 0 0 2 0 0 0 2 0 0 0 0 0 0 2 0 1 0 0 3 0 2 2 0 2 0 0 3 2 0 0 2 3 2\n",
      " 0 0 2 0 2 2 0 0 1 0 2 3 2 2 0 0 0 0 2 2 1 1 0 3 1 1 0 1 3 1 2 2 1 1 1 1 1\n",
      " 1 1 1 1 1 0 2 0 2 1 0 1 1 2 1 0 2 3 2 2 0 0 0 0 1 0 0 1 1 0 2 0 0 3 0 0 2\n",
      " 1 0 0 0 0 1 0 0 2 0 1 2 2 0 0 0 0 0 0 3 0 0 1 1 3 0 0 2 0 0 0 1 1 2 1 0 1\n",
      " 0 1 2 1 1 1 1 2 1 3 0 0 0 2 2 1 3 2 1 2 1 3 2 2 0 0 1 1 0 2 0 0 2 0 2 1 2\n",
      " 1 1 2 2 0 2 2 0 3 1 1 1 0 0 1 0 0 0 2 3 0 0 2 1 2 0 2 1 2 1 2 2 1 3 2 2 0\n",
      " 1 1 2 1 0 2 0 0 0 0 2 2]\n"
     ]
    }
   ],
   "source": [
    "#Clustering Model Hierarchical\n",
    "hierarchical_cluster = AgglomerativeClustering(n_clusters=4, affinity='euclidean')\n",
    "labels = hierarchical_cluster.fit_predict(dfscale)\n",
    "print(labels)"
   ]
  },
  {
   "cell_type": "markdown",
   "id": "19069ac0",
   "metadata": {},
   "source": [
    "Tampilkan dalam bentuk dataframe kesimpulan dari cluster dengan kriteria sama dengan kesimpulan di atas"
   ]
  },
  {
   "cell_type": "code",
   "execution_count": 17,
   "id": "fa526e23",
   "metadata": {},
   "outputs": [
    {
     "data": {
      "text/html": [
       "<div>\n",
       "<style scoped>\n",
       "    .dataframe tbody tr th:only-of-type {\n",
       "        vertical-align: middle;\n",
       "    }\n",
       "\n",
       "    .dataframe tbody tr th {\n",
       "        vertical-align: top;\n",
       "    }\n",
       "\n",
       "    .dataframe thead th {\n",
       "        text-align: right;\n",
       "    }\n",
       "</style>\n",
       "<table border=\"1\" class=\"dataframe\">\n",
       "  <thead>\n",
       "    <tr style=\"text-align: right;\">\n",
       "      <th></th>\n",
       "      <th>Area_Category</th>\n",
       "      <th>Nama_Daerah</th>\n",
       "      <th>Luas_Tanah</th>\n",
       "      <th>Luas_Bangunan</th>\n",
       "      <th>Jumlah_Kamar</th>\n",
       "      <th>Jumlah_Kamar_Mandi</th>\n",
       "      <th>Tingkat_Lantai</th>\n",
       "      <th>Harga_Penawaran</th>\n",
       "      <th>Terjual_Belum</th>\n",
       "      <th>Arah_Hadap_Rumah</th>\n",
       "      <th>Posisi_Rumah</th>\n",
       "      <th>Lebar_Jalan_Depan_Rumah</th>\n",
       "      <th>Count</th>\n",
       "    </tr>\n",
       "    <tr>\n",
       "      <th>Cluster</th>\n",
       "      <th></th>\n",
       "      <th></th>\n",
       "      <th></th>\n",
       "      <th></th>\n",
       "      <th></th>\n",
       "      <th></th>\n",
       "      <th></th>\n",
       "      <th></th>\n",
       "      <th></th>\n",
       "      <th></th>\n",
       "      <th></th>\n",
       "      <th></th>\n",
       "      <th></th>\n",
       "    </tr>\n",
       "  </thead>\n",
       "  <tbody>\n",
       "    <tr>\n",
       "      <th>0</th>\n",
       "      <td>3</td>\n",
       "      <td>73</td>\n",
       "      <td>129.549296</td>\n",
       "      <td>155.943662</td>\n",
       "      <td>3.436620</td>\n",
       "      <td>2.584507</td>\n",
       "      <td>1.767606</td>\n",
       "      <td>81.690141</td>\n",
       "      <td>0</td>\n",
       "      <td>3</td>\n",
       "      <td>2</td>\n",
       "      <td>0</td>\n",
       "      <td>142</td>\n",
       "    </tr>\n",
       "    <tr>\n",
       "      <th>1</th>\n",
       "      <td>1</td>\n",
       "      <td>11</td>\n",
       "      <td>457.447368</td>\n",
       "      <td>536.368421</td>\n",
       "      <td>6.026316</td>\n",
       "      <td>4.868421</td>\n",
       "      <td>2.006579</td>\n",
       "      <td>91.302632</td>\n",
       "      <td>0</td>\n",
       "      <td>3</td>\n",
       "      <td>2</td>\n",
       "      <td>0</td>\n",
       "      <td>76</td>\n",
       "    </tr>\n",
       "    <tr>\n",
       "      <th>2</th>\n",
       "      <td>[1, 3]</td>\n",
       "      <td>11</td>\n",
       "      <td>182.867647</td>\n",
       "      <td>203.058824</td>\n",
       "      <td>4.000000</td>\n",
       "      <td>3.147059</td>\n",
       "      <td>1.860294</td>\n",
       "      <td>65.058824</td>\n",
       "      <td>0</td>\n",
       "      <td>3</td>\n",
       "      <td>2</td>\n",
       "      <td>2</td>\n",
       "      <td>68</td>\n",
       "    </tr>\n",
       "    <tr>\n",
       "      <th>3</th>\n",
       "      <td>1</td>\n",
       "      <td>30</td>\n",
       "      <td>195.636364</td>\n",
       "      <td>246.545455</td>\n",
       "      <td>4.500000</td>\n",
       "      <td>3.500000</td>\n",
       "      <td>1.909091</td>\n",
       "      <td>99.136364</td>\n",
       "      <td>0</td>\n",
       "      <td>3</td>\n",
       "      <td>3</td>\n",
       "      <td>0</td>\n",
       "      <td>22</td>\n",
       "    </tr>\n",
       "  </tbody>\n",
       "</table>\n",
       "</div>"
      ],
      "text/plain": [
       "        Area_Category  Nama_Daerah  Luas_Tanah  Luas_Bangunan  Jumlah_Kamar  \\\n",
       "Cluster                                                                       \n",
       "0                   3           73  129.549296     155.943662      3.436620   \n",
       "1                   1           11  457.447368     536.368421      6.026316   \n",
       "2              [1, 3]           11  182.867647     203.058824      4.000000   \n",
       "3                   1           30  195.636364     246.545455      4.500000   \n",
       "\n",
       "         Jumlah_Kamar_Mandi  Tingkat_Lantai  Harga_Penawaran  Terjual_Belum  \\\n",
       "Cluster                                                                       \n",
       "0                  2.584507        1.767606        81.690141              0   \n",
       "1                  4.868421        2.006579        91.302632              0   \n",
       "2                  3.147059        1.860294        65.058824              0   \n",
       "3                  3.500000        1.909091        99.136364              0   \n",
       "\n",
       "         Arah_Hadap_Rumah  Posisi_Rumah  Lebar_Jalan_Depan_Rumah  Count  \n",
       "Cluster                                                                  \n",
       "0                       3             2                        0    142  \n",
       "1                       3             2                        0     76  \n",
       "2                       3             2                        2     68  \n",
       "3                       3             3                        0     22  "
      ]
     },
     "execution_count": 17,
     "metadata": {},
     "output_type": "execute_result"
    }
   ],
   "source": [
    "df[\"Cluster\"] = labels\n",
    "\n",
    "df.groupby(\"Cluster\").agg(Area_Category = ('Area Category',pd.Series.mode), Nama_Daerah = ('Nama Daerah',pd.Series.mode), Luas_Tanah = ('Luas Tanah (m2)', 'mean'), Luas_Bangunan = ('Luas Bangunan (m2)','mean'), Jumlah_Kamar = ('Jumlah Kamar','mean'), Jumlah_Kamar_Mandi = ('Jumlah Kamar Mandi','mean'), Tingkat_Lantai = ('Tingkat/Lantai ','mean'), Harga_Penawaran = ('Harga Penawaran (dari Owner)','mean'), Terjual_Belum = ('Terjual/Belum', pd.Series.mode), Arah_Hadap_Rumah = ('Arah Hadap Rumah', pd.Series.mode), Posisi_Rumah = ('Posisi Rumah', pd.Series.mode), Lebar_Jalan_Depan_Rumah = ('Lebar Jalan Depan Rumah (ROW)', pd.Series.mode), Count = (\"Cluster\",'count'))"
   ]
  }
 ],
 "metadata": {
  "kernelspec": {
   "display_name": "Python 3",
   "language": "python",
   "name": "python3"
  },
  "language_info": {
   "codemirror_mode": {
    "name": "ipython",
    "version": 3
   },
   "file_extension": ".py",
   "mimetype": "text/x-python",
   "name": "python",
   "nbconvert_exporter": "python",
   "pygments_lexer": "ipython3",
   "version": "3.8.8"
  }
 },
 "nbformat": 4,
 "nbformat_minor": 5
}
