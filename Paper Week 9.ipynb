{
 "cells": [
  {
   "cell_type": "markdown",
   "id": "c13f9883",
   "metadata": {},
   "source": [
    "# Association Rule Mining\n",
    "#### Cliffton Soenarto, 0706022010001\n",
    "School of Information Technology Universitas Ciputra Surabaya\n"
   ]
  },
  {
   "cell_type": "markdown",
   "id": "382493d6",
   "metadata": {},
   "source": [
    "   Pada saat kritis ini, ketergantungan pada data untuk mendorong keputusan bisnis telah meningkat secara signifikan. Data Mining adalah salah satu metode yang membantu dalam pengambilan keputusan. Ini adalah proses menurunkan tren, pola, dan informasi yang berguna dari sejumlah besar data. Proses data mining untuk menemukan aturan yang mengatur asosiasi dan objek kausal antara set item dikenal sebagai Association Rule Mining. Ini membantu dalam menemukan hubungan antara database yang tampaknya independen sehingga mengembangkan koneksi antara dataset."
   ]
  },
  {
   "cell_type": "markdown",
   "id": "8e6028f7",
   "metadata": {},
   "source": [
    "Association Rule Mining adalah metode untuk mengidentifikasi pola yang sering, korelasi, asosiasi, atau struktur kausal dalam kumpulan data yang ditemukan di banyak basis data seperti basis data relasional, basis data transaksional, dan jenis penyimpanan data lainnya. Karena sebagian besar algoritme machine learning bekerja dengan kumpulan data numerik, mereka bersifat matematis. Namun, Association Rule Mining cocok untuk data kategorikal non-numerik dan membutuhkan sedikit lebih dari sekadar penghitungan sederhana. Mengingat satu set transaksi, tujuan Association Rule Mining adalah untuk menemukan aturan yang memungkinkan kita untuk memprediksi kemunculan item tertentu berdasarkan kemunculan item lain dalam transaksi. Aturan asosiasi memiliki 2 bagian:\n",
    "-\tAntecedent (IF)\n",
    "-\tConsequent (THEN)"
   ]
  },
  {
   "cell_type": "markdown",
   "id": "1c8b9e75",
   "metadata": {},
   "source": [
    "Antecedent adalah sesuatu yang ditemukan dalam data, dan Consequent adalah item yang ditemukan dalam hubungannya dengan Antecedent. Misalnya seperti aturan ini:"
   ]
  },
  {
   "cell_type": "markdown",
   "id": "c189339d",
   "metadata": {},
   "source": [
    "“Jika seorang pelanggan membeli roti, dia 70% kemungkinan membeli susu.”"
   ]
  },
  {
   "cell_type": "markdown",
   "id": "eaf05f53",
   "metadata": {},
   "source": [
    "Dalam aturan asosiasi di atas, roti adalah anteseden dan susu adalah konsekuennya. Sederhananya, itu dapat dipahami sebagai aturan asosiasi toko ritel untuk menargetkan pelanggan mereka dengan lebih baik. Jika aturan di atas merupakan hasil analisis menyeluruh dari beberapa kumpulan data, aturan tersebut dapat digunakan untuk tidak hanya meningkatkan layanan pelanggan tetapi juga meningkatkan pendapatan perusahaan."
   ]
  },
  {
   "cell_type": "markdown",
   "id": "8f9af7f5",
   "metadata": {},
   "source": [
    "Aturan asosiasi dibuat dengan menganalisis data secara menyeluruh dan mencari pola if/then yang sering. Kemudian, tergantung pada tiga parameter berikut, hubungan penting diamati:\n",
    "-\tSupport: Support dari suatu association rule adalah presentasi kombinasi item tersebut dalam database, dimana jika mempunyai item A dan item B maka support adalah proporsi dari transaksi dalam database yang mengandung A dan B. \n",
    "-\tConfidence: Confidence dari association rule adalah ukuran ketepatan suatu rule, yaitu presentasi transaksi dalam database yang mengandung A dan mengandung B. Dengan adanya confidence kita dapat mengukur kuatnya hubungan antar-item dalam association rule. \n",
    "-   Lift: Ini adalah probabilitas dari semua item yang terjadi bersama-sama dibagi dengan produk dari antecedent dan consequent yang terjadi seolah-olah mereka independen satu sama lain."
   ]
  },
  {
   "cell_type": "markdown",
   "id": "db678624",
   "metadata": {},
   "source": [
    "Penggunaan dari Association Rule Mining:\n",
    "1.\tMarket Basket Analysis:\n",
    "Di sebagian besar supermarket, data dikumpulkan menggunakan pemindai barcode. Basis data ini disebut basis data “market basket”. Ini berisi sejumlah besar catatan transaksi masa lalu. Setiap record berisi nama semua item yang dibeli setiap pelanggan dalam satu transaksi. Dari data ini, toko-toko mengetahui kecenderungan dan pilihan barang dari pelanggan. Dan menurut informasi ini, mereka memutuskan tata letak toko dan mengoptimalkan katalogisasi barang-barang yang berbeda. Satu catatan berisi daftar semua barang yang dibeli oleh pelanggan dalam satu transaksi. Mengetahui kelompok mana yang cenderung ke set item mana memungkinkan toko-toko ini untuk menyesuaikan tata letak toko dan katalog untuk menempatkannya secara optimal di samping satu sama lain.\n",
    "2.\tDiagnosis Medis:\n",
    "Aturan asosiasi dalam diagnosis medis dapat membantu dokter mendiagnosis dan merawat pasien. Diagnosis adalah proses yang sulit dengan banyak kesalahan potensial yang dapat menyebabkan hasil yang tidak dapat diandalkan. Anda dapat menggunakan penambangan aturan asosiasi relasional untuk menentukan kemungkinan penyakit berdasarkan berbagai faktor dan gejala. Aplikasi ini dapat dikembangkan lebih lanjut dengan menggunakan beberapa teknik pembelajaran berdasarkan gejala dan hubungannya sesuai dengan penyakit.\n",
    "3.\tData Sensus:\n",
    "Konsep Association Rule Mining juga digunakan dalam menangani jumlah data sensus yang sangat besar. Jika diselaraskan dengan benar, informasi ini dapat digunakan dalam merencanakan layanan publik dan bisnis yang efisien."
   ]
  },
  {
   "cell_type": "markdown",
   "id": "28f9921e",
   "metadata": {},
   "source": [
    "Algoritma dari Association Rule Mining:\n",
    "-\tAlgoritma Apriori:\n",
    "Algoritme Apriori mengidentifikasi item individual yang sering muncul dalam database tertentu dan kemudian mengembangkannya ke set item yang lebih besar, dengan tetap memeriksa bahwa set item cukup sering muncul dalam database.\n",
    "-\tAlgoritma Eclat:\n",
    "Algoritma ECLAT juga dikenal sebagai Equivalence Class Clustering dan bottomup. Latice Traversal adalah metode lain yang banyak digunakan untuk aturan asosiasi dalam penambangan data. Beberapa bahkan menganggapnya sebagai versi yang lebih baik dan lebih efisien dari algoritma Apriori.\n",
    "-\tAlgoritma pertumbuhan FP:\n",
    "Juga dikenal sebagai pola berulang, algoritme ini sangat berguna untuk menemukan pola yang sering muncul tanpa perlu menghasilkan kandidat. Ini terutama beroperasi dalam dua tahap yaitu, konstruksi pohon FP dan mengekstrak set item yang sering digunakan.\n"
   ]
  },
  {
   "cell_type": "markdown",
   "id": "4121972c",
   "metadata": {},
   "source": [
    "Kali ini kita akan implementasikan Association Rule Mining dengan algoritma Apriori"
   ]
  },
  {
   "cell_type": "markdown",
   "id": "9c360dc8",
   "metadata": {},
   "source": [
    "Langkah pertama, seperti biasa, adalah mengimpor library yang diperlukan. Jalankan skrip berikut untuk melakukannya:"
   ]
  },
  {
   "cell_type": "code",
   "execution_count": 1,
   "id": "514fef07",
   "metadata": {},
   "outputs": [],
   "source": [
    "import pandas as pd\n",
    "import numpy as np\n",
    "from mlxtend.frequent_patterns import apriori, association_rules"
   ]
  },
  {
   "cell_type": "markdown",
   "id": "1e24f538",
   "metadata": {},
   "source": [
    "Selanjutnya kita perlu mengimport dataset yang ada"
   ]
  },
  {
   "cell_type": "code",
   "execution_count": 2,
   "id": "a8957592",
   "metadata": {},
   "outputs": [
    {
     "name": "stderr",
     "output_type": "stream",
     "text": [
      "C:\\Users\\cliff\\anaconda3\\lib\\site-packages\\ipykernel\\ipkernel.py:287: DeprecationWarning: `should_run_async` will not call `transform_cell` automatically in the future. Please pass the result to `transformed_cell` argument and any exception that happen during thetransform in `preprocessing_exc_tuple` in IPython 7.17 and above.\n",
      "  and should_run_async(code)\n"
     ]
    },
    {
     "data": {
      "text/html": [
       "<div>\n",
       "<style scoped>\n",
       "    .dataframe tbody tr th:only-of-type {\n",
       "        vertical-align: middle;\n",
       "    }\n",
       "\n",
       "    .dataframe tbody tr th {\n",
       "        vertical-align: top;\n",
       "    }\n",
       "\n",
       "    .dataframe thead th {\n",
       "        text-align: right;\n",
       "    }\n",
       "</style>\n",
       "<table border=\"1\" class=\"dataframe\">\n",
       "  <thead>\n",
       "    <tr style=\"text-align: right;\">\n",
       "      <th></th>\n",
       "      <th>products</th>\n",
       "    </tr>\n",
       "  </thead>\n",
       "  <tbody>\n",
       "    <tr>\n",
       "      <th>0</th>\n",
       "      <td>MILK,BREAD,BISCUIT</td>\n",
       "    </tr>\n",
       "    <tr>\n",
       "      <th>1</th>\n",
       "      <td>BREAD,MILK,BISCUIT,CORNFLAKES</td>\n",
       "    </tr>\n",
       "    <tr>\n",
       "      <th>2</th>\n",
       "      <td>BREAD,TEA,BOURNVITA</td>\n",
       "    </tr>\n",
       "    <tr>\n",
       "      <th>3</th>\n",
       "      <td>JAM,MAGGI,BREAD,MILK</td>\n",
       "    </tr>\n",
       "    <tr>\n",
       "      <th>4</th>\n",
       "      <td>MAGGI,TEA,BISCUIT</td>\n",
       "    </tr>\n",
       "  </tbody>\n",
       "</table>\n",
       "</div>"
      ],
      "text/plain": [
       "                        products\n",
       "0             MILK,BREAD,BISCUIT\n",
       "1  BREAD,MILK,BISCUIT,CORNFLAKES\n",
       "2            BREAD,TEA,BOURNVITA\n",
       "3           JAM,MAGGI,BREAD,MILK\n",
       "4              MAGGI,TEA,BISCUIT"
      ]
     },
     "execution_count": 2,
     "metadata": {},
     "output_type": "execute_result"
    }
   ],
   "source": [
    "df = pd.read_csv('https://raw.githubusercontent.com/ClifftonS/Data-Mining/main/GroceryStoreDataSet.csv', names = ['products'], sep = ',')\n",
    "df.head()"
   ]
  },
  {
   "cell_type": "markdown",
   "id": "4b3b78bf",
   "metadata": {},
   "source": [
    "Mari kita periksa shape dataset kita"
   ]
  },
  {
   "cell_type": "code",
   "execution_count": 3,
   "id": "ef9bb085",
   "metadata": {},
   "outputs": [
    {
     "name": "stderr",
     "output_type": "stream",
     "text": [
      "C:\\Users\\cliff\\anaconda3\\lib\\site-packages\\ipykernel\\ipkernel.py:287: DeprecationWarning: `should_run_async` will not call `transform_cell` automatically in the future. Please pass the result to `transformed_cell` argument and any exception that happen during thetransform in `preprocessing_exc_tuple` in IPython 7.17 and above.\n",
      "  and should_run_async(code)\n"
     ]
    },
    {
     "data": {
      "text/plain": [
       "(20, 1)"
      ]
     },
     "execution_count": 3,
     "metadata": {},
     "output_type": "execute_result"
    }
   ],
   "source": [
    "df.shape"
   ]
  },
  {
   "cell_type": "markdown",
   "id": "49adeb72",
   "metadata": {},
   "source": [
    "Mari kita pisahkan produk dan buat daftar yang disebut dengan 'data'"
   ]
  },
  {
   "cell_type": "code",
   "execution_count": 4,
   "id": "ee96da89",
   "metadata": {},
   "outputs": [
    {
     "name": "stderr",
     "output_type": "stream",
     "text": [
      "C:\\Users\\cliff\\anaconda3\\lib\\site-packages\\ipykernel\\ipkernel.py:287: DeprecationWarning: `should_run_async` will not call `transform_cell` automatically in the future. Please pass the result to `transformed_cell` argument and any exception that happen during thetransform in `preprocessing_exc_tuple` in IPython 7.17 and above.\n",
      "  and should_run_async(code)\n"
     ]
    },
    {
     "data": {
      "text/plain": [
       "[['MILK', 'BREAD', 'BISCUIT'],\n",
       " ['BREAD', 'MILK', 'BISCUIT', 'CORNFLAKES'],\n",
       " ['BREAD', 'TEA', 'BOURNVITA'],\n",
       " ['JAM', 'MAGGI', 'BREAD', 'MILK'],\n",
       " ['MAGGI', 'TEA', 'BISCUIT'],\n",
       " ['BREAD', 'TEA', 'BOURNVITA'],\n",
       " ['MAGGI', 'TEA', 'CORNFLAKES'],\n",
       " ['MAGGI', 'BREAD', 'TEA', 'BISCUIT'],\n",
       " ['JAM', 'MAGGI', 'BREAD', 'TEA'],\n",
       " ['BREAD', 'MILK'],\n",
       " ['COFFEE', 'COCK', 'BISCUIT', 'CORNFLAKES'],\n",
       " ['COFFEE', 'COCK', 'BISCUIT', 'CORNFLAKES'],\n",
       " ['COFFEE', 'SUGER', 'BOURNVITA'],\n",
       " ['BREAD', 'COFFEE', 'COCK'],\n",
       " ['BREAD', 'SUGER', 'BISCUIT'],\n",
       " ['COFFEE', 'SUGER', 'CORNFLAKES'],\n",
       " ['BREAD', 'SUGER', 'BOURNVITA'],\n",
       " ['BREAD', 'COFFEE', 'SUGER'],\n",
       " ['BREAD', 'COFFEE', 'SUGER'],\n",
       " ['TEA', 'MILK', 'COFFEE', 'CORNFLAKES']]"
      ]
     },
     "execution_count": 4,
     "metadata": {},
     "output_type": "execute_result"
    }
   ],
   "source": [
    "data = list(df[\"products\"].apply(lambda x:x.split(\",\") ))\n",
    "data"
   ]
  },
  {
   "cell_type": "markdown",
   "id": "1025f5a0",
   "metadata": {},
   "source": [
    "Setelah itu kita encoding data ke bentuk angka agar informasi dataset bisa terbaca"
   ]
  },
  {
   "cell_type": "code",
   "execution_count": 5,
   "id": "5e9669d4",
   "metadata": {},
   "outputs": [
    {
     "name": "stderr",
     "output_type": "stream",
     "text": [
      "C:\\Users\\cliff\\anaconda3\\lib\\site-packages\\ipykernel\\ipkernel.py:287: DeprecationWarning: `should_run_async` will not call `transform_cell` automatically in the future. Please pass the result to `transformed_cell` argument and any exception that happen during thetransform in `preprocessing_exc_tuple` in IPython 7.17 and above.\n",
      "  and should_run_async(code)\n"
     ]
    },
    {
     "data": {
      "text/html": [
       "<div>\n",
       "<style scoped>\n",
       "    .dataframe tbody tr th:only-of-type {\n",
       "        vertical-align: middle;\n",
       "    }\n",
       "\n",
       "    .dataframe tbody tr th {\n",
       "        vertical-align: top;\n",
       "    }\n",
       "\n",
       "    .dataframe thead th {\n",
       "        text-align: right;\n",
       "    }\n",
       "</style>\n",
       "<table border=\"1\" class=\"dataframe\">\n",
       "  <thead>\n",
       "    <tr style=\"text-align: right;\">\n",
       "      <th></th>\n",
       "      <th>BISCUIT</th>\n",
       "      <th>BOURNVITA</th>\n",
       "      <th>BREAD</th>\n",
       "      <th>COCK</th>\n",
       "      <th>COFFEE</th>\n",
       "      <th>CORNFLAKES</th>\n",
       "      <th>JAM</th>\n",
       "      <th>MAGGI</th>\n",
       "      <th>MILK</th>\n",
       "      <th>SUGER</th>\n",
       "      <th>TEA</th>\n",
       "    </tr>\n",
       "  </thead>\n",
       "  <tbody>\n",
       "    <tr>\n",
       "      <th>0</th>\n",
       "      <td>True</td>\n",
       "      <td>0</td>\n",
       "      <td>True</td>\n",
       "      <td>0</td>\n",
       "      <td>0</td>\n",
       "      <td>0</td>\n",
       "      <td>0</td>\n",
       "      <td>0</td>\n",
       "      <td>True</td>\n",
       "      <td>0</td>\n",
       "      <td>0</td>\n",
       "    </tr>\n",
       "    <tr>\n",
       "      <th>1</th>\n",
       "      <td>True</td>\n",
       "      <td>0</td>\n",
       "      <td>True</td>\n",
       "      <td>0</td>\n",
       "      <td>0</td>\n",
       "      <td>True</td>\n",
       "      <td>0</td>\n",
       "      <td>0</td>\n",
       "      <td>True</td>\n",
       "      <td>0</td>\n",
       "      <td>0</td>\n",
       "    </tr>\n",
       "    <tr>\n",
       "      <th>2</th>\n",
       "      <td>0</td>\n",
       "      <td>True</td>\n",
       "      <td>True</td>\n",
       "      <td>0</td>\n",
       "      <td>0</td>\n",
       "      <td>0</td>\n",
       "      <td>0</td>\n",
       "      <td>0</td>\n",
       "      <td>0</td>\n",
       "      <td>0</td>\n",
       "      <td>True</td>\n",
       "    </tr>\n",
       "    <tr>\n",
       "      <th>3</th>\n",
       "      <td>0</td>\n",
       "      <td>0</td>\n",
       "      <td>True</td>\n",
       "      <td>0</td>\n",
       "      <td>0</td>\n",
       "      <td>0</td>\n",
       "      <td>True</td>\n",
       "      <td>True</td>\n",
       "      <td>True</td>\n",
       "      <td>0</td>\n",
       "      <td>0</td>\n",
       "    </tr>\n",
       "    <tr>\n",
       "      <th>4</th>\n",
       "      <td>True</td>\n",
       "      <td>0</td>\n",
       "      <td>0</td>\n",
       "      <td>0</td>\n",
       "      <td>0</td>\n",
       "      <td>0</td>\n",
       "      <td>0</td>\n",
       "      <td>True</td>\n",
       "      <td>0</td>\n",
       "      <td>0</td>\n",
       "      <td>True</td>\n",
       "    </tr>\n",
       "    <tr>\n",
       "      <th>5</th>\n",
       "      <td>0</td>\n",
       "      <td>True</td>\n",
       "      <td>True</td>\n",
       "      <td>0</td>\n",
       "      <td>0</td>\n",
       "      <td>0</td>\n",
       "      <td>0</td>\n",
       "      <td>0</td>\n",
       "      <td>0</td>\n",
       "      <td>0</td>\n",
       "      <td>True</td>\n",
       "    </tr>\n",
       "    <tr>\n",
       "      <th>6</th>\n",
       "      <td>0</td>\n",
       "      <td>0</td>\n",
       "      <td>0</td>\n",
       "      <td>0</td>\n",
       "      <td>0</td>\n",
       "      <td>True</td>\n",
       "      <td>0</td>\n",
       "      <td>True</td>\n",
       "      <td>0</td>\n",
       "      <td>0</td>\n",
       "      <td>True</td>\n",
       "    </tr>\n",
       "    <tr>\n",
       "      <th>7</th>\n",
       "      <td>True</td>\n",
       "      <td>0</td>\n",
       "      <td>True</td>\n",
       "      <td>0</td>\n",
       "      <td>0</td>\n",
       "      <td>0</td>\n",
       "      <td>0</td>\n",
       "      <td>True</td>\n",
       "      <td>0</td>\n",
       "      <td>0</td>\n",
       "      <td>True</td>\n",
       "    </tr>\n",
       "    <tr>\n",
       "      <th>8</th>\n",
       "      <td>0</td>\n",
       "      <td>0</td>\n",
       "      <td>True</td>\n",
       "      <td>0</td>\n",
       "      <td>0</td>\n",
       "      <td>0</td>\n",
       "      <td>True</td>\n",
       "      <td>True</td>\n",
       "      <td>0</td>\n",
       "      <td>0</td>\n",
       "      <td>True</td>\n",
       "    </tr>\n",
       "    <tr>\n",
       "      <th>9</th>\n",
       "      <td>0</td>\n",
       "      <td>0</td>\n",
       "      <td>True</td>\n",
       "      <td>0</td>\n",
       "      <td>0</td>\n",
       "      <td>0</td>\n",
       "      <td>0</td>\n",
       "      <td>0</td>\n",
       "      <td>True</td>\n",
       "      <td>0</td>\n",
       "      <td>0</td>\n",
       "    </tr>\n",
       "    <tr>\n",
       "      <th>10</th>\n",
       "      <td>True</td>\n",
       "      <td>0</td>\n",
       "      <td>0</td>\n",
       "      <td>True</td>\n",
       "      <td>True</td>\n",
       "      <td>True</td>\n",
       "      <td>0</td>\n",
       "      <td>0</td>\n",
       "      <td>0</td>\n",
       "      <td>0</td>\n",
       "      <td>0</td>\n",
       "    </tr>\n",
       "    <tr>\n",
       "      <th>11</th>\n",
       "      <td>True</td>\n",
       "      <td>0</td>\n",
       "      <td>0</td>\n",
       "      <td>True</td>\n",
       "      <td>True</td>\n",
       "      <td>True</td>\n",
       "      <td>0</td>\n",
       "      <td>0</td>\n",
       "      <td>0</td>\n",
       "      <td>0</td>\n",
       "      <td>0</td>\n",
       "    </tr>\n",
       "    <tr>\n",
       "      <th>12</th>\n",
       "      <td>0</td>\n",
       "      <td>True</td>\n",
       "      <td>0</td>\n",
       "      <td>0</td>\n",
       "      <td>True</td>\n",
       "      <td>0</td>\n",
       "      <td>0</td>\n",
       "      <td>0</td>\n",
       "      <td>0</td>\n",
       "      <td>True</td>\n",
       "      <td>0</td>\n",
       "    </tr>\n",
       "    <tr>\n",
       "      <th>13</th>\n",
       "      <td>0</td>\n",
       "      <td>0</td>\n",
       "      <td>True</td>\n",
       "      <td>True</td>\n",
       "      <td>True</td>\n",
       "      <td>0</td>\n",
       "      <td>0</td>\n",
       "      <td>0</td>\n",
       "      <td>0</td>\n",
       "      <td>0</td>\n",
       "      <td>0</td>\n",
       "    </tr>\n",
       "    <tr>\n",
       "      <th>14</th>\n",
       "      <td>True</td>\n",
       "      <td>0</td>\n",
       "      <td>True</td>\n",
       "      <td>0</td>\n",
       "      <td>0</td>\n",
       "      <td>0</td>\n",
       "      <td>0</td>\n",
       "      <td>0</td>\n",
       "      <td>0</td>\n",
       "      <td>True</td>\n",
       "      <td>0</td>\n",
       "    </tr>\n",
       "    <tr>\n",
       "      <th>15</th>\n",
       "      <td>0</td>\n",
       "      <td>0</td>\n",
       "      <td>0</td>\n",
       "      <td>0</td>\n",
       "      <td>True</td>\n",
       "      <td>True</td>\n",
       "      <td>0</td>\n",
       "      <td>0</td>\n",
       "      <td>0</td>\n",
       "      <td>True</td>\n",
       "      <td>0</td>\n",
       "    </tr>\n",
       "    <tr>\n",
       "      <th>16</th>\n",
       "      <td>0</td>\n",
       "      <td>True</td>\n",
       "      <td>True</td>\n",
       "      <td>0</td>\n",
       "      <td>0</td>\n",
       "      <td>0</td>\n",
       "      <td>0</td>\n",
       "      <td>0</td>\n",
       "      <td>0</td>\n",
       "      <td>True</td>\n",
       "      <td>0</td>\n",
       "    </tr>\n",
       "    <tr>\n",
       "      <th>17</th>\n",
       "      <td>0</td>\n",
       "      <td>0</td>\n",
       "      <td>True</td>\n",
       "      <td>0</td>\n",
       "      <td>True</td>\n",
       "      <td>0</td>\n",
       "      <td>0</td>\n",
       "      <td>0</td>\n",
       "      <td>0</td>\n",
       "      <td>True</td>\n",
       "      <td>0</td>\n",
       "    </tr>\n",
       "    <tr>\n",
       "      <th>18</th>\n",
       "      <td>0</td>\n",
       "      <td>0</td>\n",
       "      <td>True</td>\n",
       "      <td>0</td>\n",
       "      <td>True</td>\n",
       "      <td>0</td>\n",
       "      <td>0</td>\n",
       "      <td>0</td>\n",
       "      <td>0</td>\n",
       "      <td>True</td>\n",
       "      <td>0</td>\n",
       "    </tr>\n",
       "    <tr>\n",
       "      <th>19</th>\n",
       "      <td>0</td>\n",
       "      <td>0</td>\n",
       "      <td>0</td>\n",
       "      <td>0</td>\n",
       "      <td>True</td>\n",
       "      <td>True</td>\n",
       "      <td>0</td>\n",
       "      <td>0</td>\n",
       "      <td>True</td>\n",
       "      <td>0</td>\n",
       "      <td>True</td>\n",
       "    </tr>\n",
       "  </tbody>\n",
       "</table>\n",
       "</div>"
      ],
      "text/plain": [
       "   BISCUIT BOURNVITA BREAD  COCK COFFEE CORNFLAKES   JAM MAGGI  MILK SUGER  \\\n",
       "0     True         0  True     0      0          0     0     0  True     0   \n",
       "1     True         0  True     0      0       True     0     0  True     0   \n",
       "2        0      True  True     0      0          0     0     0     0     0   \n",
       "3        0         0  True     0      0          0  True  True  True     0   \n",
       "4     True         0     0     0      0          0     0  True     0     0   \n",
       "5        0      True  True     0      0          0     0     0     0     0   \n",
       "6        0         0     0     0      0       True     0  True     0     0   \n",
       "7     True         0  True     0      0          0     0  True     0     0   \n",
       "8        0         0  True     0      0          0  True  True     0     0   \n",
       "9        0         0  True     0      0          0     0     0  True     0   \n",
       "10    True         0     0  True   True       True     0     0     0     0   \n",
       "11    True         0     0  True   True       True     0     0     0     0   \n",
       "12       0      True     0     0   True          0     0     0     0  True   \n",
       "13       0         0  True  True   True          0     0     0     0     0   \n",
       "14    True         0  True     0      0          0     0     0     0  True   \n",
       "15       0         0     0     0   True       True     0     0     0  True   \n",
       "16       0      True  True     0      0          0     0     0     0  True   \n",
       "17       0         0  True     0   True          0     0     0     0  True   \n",
       "18       0         0  True     0   True          0     0     0     0  True   \n",
       "19       0         0     0     0   True       True     0     0  True     0   \n",
       "\n",
       "     TEA  \n",
       "0      0  \n",
       "1      0  \n",
       "2   True  \n",
       "3      0  \n",
       "4   True  \n",
       "5   True  \n",
       "6   True  \n",
       "7   True  \n",
       "8   True  \n",
       "9      0  \n",
       "10     0  \n",
       "11     0  \n",
       "12     0  \n",
       "13     0  \n",
       "14     0  \n",
       "15     0  \n",
       "16     0  \n",
       "17     0  \n",
       "18     0  \n",
       "19  True  "
      ]
     },
     "execution_count": 5,
     "metadata": {},
     "output_type": "execute_result"
    }
   ],
   "source": [
    "from mlxtend.preprocessing import TransactionEncoder\n",
    "a = TransactionEncoder()\n",
    "a_data = a.fit(data).transform(data)\n",
    "df = pd.DataFrame(a_data,columns=a.columns_)\n",
    "df = df.replace(False,0)\n",
    "df"
   ]
  },
  {
   "cell_type": "markdown",
   "id": "80c67b9f",
   "metadata": {},
   "source": [
    "Langkah selanjutnya adalah membuat Model Apriori. Kita dapat mengubah semua parameter dalam Model Apriori dalam paket mlxtend. Saya akan mencoba menggunakan parameter dukungan minimum untuk pemodelan ini. Untuk ini, saya menetapkan nilai min_support dengan nilai ambang 20% dan mencetaknya di layar juga."
   ]
  },
  {
   "cell_type": "code",
   "execution_count": 6,
   "id": "e1706b0a",
   "metadata": {},
   "outputs": [
    {
     "name": "stdout",
     "output_type": "stream",
     "text": [
      "\r",
      "Processing 72 combinations | Sampling itemset size 2\r",
      "Processing 42 combinations | Sampling itemset size 3\n"
     ]
    },
    {
     "name": "stderr",
     "output_type": "stream",
     "text": [
      "C:\\Users\\cliff\\anaconda3\\lib\\site-packages\\ipykernel\\ipkernel.py:287: DeprecationWarning: `should_run_async` will not call `transform_cell` automatically in the future. Please pass the result to `transformed_cell` argument and any exception that happen during thetransform in `preprocessing_exc_tuple` in IPython 7.17 and above.\n",
      "  and should_run_async(code)\n",
      "C:\\Users\\cliff\\anaconda3\\lib\\site-packages\\mlxtend\\frequent_patterns\\fpcommon.py:111: DeprecationWarning: DataFrames with non-bool types result in worse computationalperformance and their support might be discontinued in the future.Please use a DataFrame with bool type\n",
      "  warnings.warn(\n"
     ]
    },
    {
     "data": {
      "text/html": [
       "<div>\n",
       "<style scoped>\n",
       "    .dataframe tbody tr th:only-of-type {\n",
       "        vertical-align: middle;\n",
       "    }\n",
       "\n",
       "    .dataframe tbody tr th {\n",
       "        vertical-align: top;\n",
       "    }\n",
       "\n",
       "    .dataframe thead th {\n",
       "        text-align: right;\n",
       "    }\n",
       "</style>\n",
       "<table border=\"1\" class=\"dataframe\">\n",
       "  <thead>\n",
       "    <tr style=\"text-align: right;\">\n",
       "      <th></th>\n",
       "      <th>support</th>\n",
       "      <th>itemsets</th>\n",
       "    </tr>\n",
       "  </thead>\n",
       "  <tbody>\n",
       "    <tr>\n",
       "      <th>0</th>\n",
       "      <td>0.35</td>\n",
       "      <td>(BISCUIT)</td>\n",
       "    </tr>\n",
       "    <tr>\n",
       "      <th>1</th>\n",
       "      <td>0.2</td>\n",
       "      <td>(BOURNVITA)</td>\n",
       "    </tr>\n",
       "    <tr>\n",
       "      <th>2</th>\n",
       "      <td>0.65</td>\n",
       "      <td>(BREAD)</td>\n",
       "    </tr>\n",
       "    <tr>\n",
       "      <th>3</th>\n",
       "      <td>0.4</td>\n",
       "      <td>(COFFEE)</td>\n",
       "    </tr>\n",
       "    <tr>\n",
       "      <th>4</th>\n",
       "      <td>0.3</td>\n",
       "      <td>(CORNFLAKES)</td>\n",
       "    </tr>\n",
       "    <tr>\n",
       "      <th>5</th>\n",
       "      <td>0.25</td>\n",
       "      <td>(MAGGI)</td>\n",
       "    </tr>\n",
       "    <tr>\n",
       "      <th>6</th>\n",
       "      <td>0.25</td>\n",
       "      <td>(MILK)</td>\n",
       "    </tr>\n",
       "    <tr>\n",
       "      <th>7</th>\n",
       "      <td>0.3</td>\n",
       "      <td>(SUGER)</td>\n",
       "    </tr>\n",
       "    <tr>\n",
       "      <th>8</th>\n",
       "      <td>0.35</td>\n",
       "      <td>(TEA)</td>\n",
       "    </tr>\n",
       "    <tr>\n",
       "      <th>9</th>\n",
       "      <td>0.2</td>\n",
       "      <td>(BREAD, BISCUIT)</td>\n",
       "    </tr>\n",
       "    <tr>\n",
       "      <th>10</th>\n",
       "      <td>0.2</td>\n",
       "      <td>(BREAD, MILK)</td>\n",
       "    </tr>\n",
       "    <tr>\n",
       "      <th>11</th>\n",
       "      <td>0.2</td>\n",
       "      <td>(SUGER, BREAD)</td>\n",
       "    </tr>\n",
       "    <tr>\n",
       "      <th>12</th>\n",
       "      <td>0.2</td>\n",
       "      <td>(TEA, BREAD)</td>\n",
       "    </tr>\n",
       "    <tr>\n",
       "      <th>13</th>\n",
       "      <td>0.2</td>\n",
       "      <td>(COFFEE, CORNFLAKES)</td>\n",
       "    </tr>\n",
       "    <tr>\n",
       "      <th>14</th>\n",
       "      <td>0.2</td>\n",
       "      <td>(SUGER, COFFEE)</td>\n",
       "    </tr>\n",
       "    <tr>\n",
       "      <th>15</th>\n",
       "      <td>0.2</td>\n",
       "      <td>(TEA, MAGGI)</td>\n",
       "    </tr>\n",
       "  </tbody>\n",
       "</table>\n",
       "</div>"
      ],
      "text/plain": [
       "   support              itemsets\n",
       "0     0.35             (BISCUIT)\n",
       "1      0.2           (BOURNVITA)\n",
       "2     0.65               (BREAD)\n",
       "3      0.4              (COFFEE)\n",
       "4      0.3          (CORNFLAKES)\n",
       "5     0.25               (MAGGI)\n",
       "6     0.25                (MILK)\n",
       "7      0.3               (SUGER)\n",
       "8     0.35                 (TEA)\n",
       "9      0.2      (BREAD, BISCUIT)\n",
       "10     0.2         (BREAD, MILK)\n",
       "11     0.2        (SUGER, BREAD)\n",
       "12     0.2          (TEA, BREAD)\n",
       "13     0.2  (COFFEE, CORNFLAKES)\n",
       "14     0.2       (SUGER, COFFEE)\n",
       "15     0.2          (TEA, MAGGI)"
      ]
     },
     "execution_count": 6,
     "metadata": {},
     "output_type": "execute_result"
    }
   ],
   "source": [
    "df = apriori(df, min_support = 0.2, use_colnames = True, verbose = 1)\n",
    "df"
   ]
  },
  {
   "cell_type": "markdown",
   "id": "31253bc9",
   "metadata": {},
   "source": [
    "Saya memilih nilai confidence minimum 60%. Dengan kata lain, ketika produk X dibeli, kita dapat mengatakan bahwa pembelian produk Y adalah 60% atau lebih."
   ]
  },
  {
   "cell_type": "code",
   "execution_count": 7,
   "id": "1d9f363d",
   "metadata": {},
   "outputs": [
    {
     "name": "stderr",
     "output_type": "stream",
     "text": [
      "C:\\Users\\cliff\\anaconda3\\lib\\site-packages\\ipykernel\\ipkernel.py:287: DeprecationWarning: `should_run_async` will not call `transform_cell` automatically in the future. Please pass the result to `transformed_cell` argument and any exception that happen during thetransform in `preprocessing_exc_tuple` in IPython 7.17 and above.\n",
      "  and should_run_async(code)\n"
     ]
    },
    {
     "data": {
      "text/html": [
       "<div>\n",
       "<style scoped>\n",
       "    .dataframe tbody tr th:only-of-type {\n",
       "        vertical-align: middle;\n",
       "    }\n",
       "\n",
       "    .dataframe tbody tr th {\n",
       "        vertical-align: top;\n",
       "    }\n",
       "\n",
       "    .dataframe thead th {\n",
       "        text-align: right;\n",
       "    }\n",
       "</style>\n",
       "<table border=\"1\" class=\"dataframe\">\n",
       "  <thead>\n",
       "    <tr style=\"text-align: right;\">\n",
       "      <th></th>\n",
       "      <th>antecedents</th>\n",
       "      <th>consequents</th>\n",
       "      <th>antecedent support</th>\n",
       "      <th>consequent support</th>\n",
       "      <th>support</th>\n",
       "      <th>confidence</th>\n",
       "      <th>lift</th>\n",
       "      <th>leverage</th>\n",
       "      <th>conviction</th>\n",
       "    </tr>\n",
       "  </thead>\n",
       "  <tbody>\n",
       "    <tr>\n",
       "      <th>0</th>\n",
       "      <td>(MILK)</td>\n",
       "      <td>(BREAD)</td>\n",
       "      <td>0.25</td>\n",
       "      <td>0.65</td>\n",
       "      <td>0.2</td>\n",
       "      <td>0.800000</td>\n",
       "      <td>1.230769</td>\n",
       "      <td>0.0375</td>\n",
       "      <td>1.75</td>\n",
       "    </tr>\n",
       "    <tr>\n",
       "      <th>1</th>\n",
       "      <td>(SUGER)</td>\n",
       "      <td>(BREAD)</td>\n",
       "      <td>0.30</td>\n",
       "      <td>0.65</td>\n",
       "      <td>0.2</td>\n",
       "      <td>0.666667</td>\n",
       "      <td>1.025641</td>\n",
       "      <td>0.0050</td>\n",
       "      <td>1.05</td>\n",
       "    </tr>\n",
       "    <tr>\n",
       "      <th>2</th>\n",
       "      <td>(CORNFLAKES)</td>\n",
       "      <td>(COFFEE)</td>\n",
       "      <td>0.30</td>\n",
       "      <td>0.40</td>\n",
       "      <td>0.2</td>\n",
       "      <td>0.666667</td>\n",
       "      <td>1.666667</td>\n",
       "      <td>0.0800</td>\n",
       "      <td>1.80</td>\n",
       "    </tr>\n",
       "    <tr>\n",
       "      <th>3</th>\n",
       "      <td>(SUGER)</td>\n",
       "      <td>(COFFEE)</td>\n",
       "      <td>0.30</td>\n",
       "      <td>0.40</td>\n",
       "      <td>0.2</td>\n",
       "      <td>0.666667</td>\n",
       "      <td>1.666667</td>\n",
       "      <td>0.0800</td>\n",
       "      <td>1.80</td>\n",
       "    </tr>\n",
       "    <tr>\n",
       "      <th>4</th>\n",
       "      <td>(MAGGI)</td>\n",
       "      <td>(TEA)</td>\n",
       "      <td>0.25</td>\n",
       "      <td>0.35</td>\n",
       "      <td>0.2</td>\n",
       "      <td>0.800000</td>\n",
       "      <td>2.285714</td>\n",
       "      <td>0.1125</td>\n",
       "      <td>3.25</td>\n",
       "    </tr>\n",
       "  </tbody>\n",
       "</table>\n",
       "</div>"
      ],
      "text/plain": [
       "    antecedents consequents  antecedent support  consequent support  support  \\\n",
       "0        (MILK)     (BREAD)                0.25                0.65      0.2   \n",
       "1       (SUGER)     (BREAD)                0.30                0.65      0.2   \n",
       "2  (CORNFLAKES)    (COFFEE)                0.30                0.40      0.2   \n",
       "3       (SUGER)    (COFFEE)                0.30                0.40      0.2   \n",
       "4       (MAGGI)       (TEA)                0.25                0.35      0.2   \n",
       "\n",
       "   confidence      lift  leverage  conviction  \n",
       "0    0.800000  1.230769    0.0375        1.75  \n",
       "1    0.666667  1.025641    0.0050        1.05  \n",
       "2    0.666667  1.666667    0.0800        1.80  \n",
       "3    0.666667  1.666667    0.0800        1.80  \n",
       "4    0.800000  2.285714    0.1125        3.25  "
      ]
     },
     "execution_count": 7,
     "metadata": {},
     "output_type": "execute_result"
    }
   ],
   "source": [
    "df_ar = association_rules(df, metric = \"confidence\", min_threshold = 0.6)\n",
    "df_ar"
   ]
  },
  {
   "cell_type": "markdown",
   "id": "de2c294d",
   "metadata": {},
   "source": [
    "Misalnya, jika kita memeriksa nilai indeks 0 kita;\n",
    "- Probabilitas melihat penjualan susu dilihat sebagai 25%.\n",
    "- Roti dilihat sebagai 65%.\n",
    "- Kita dapat mengatakan bahwa support dari keduanya diukur sebagai 20%.\n",
    "- 80% dari mereka yang membeli susu, membeli roti juga.\n",
    "- Pengguna yang membeli susu kemungkinan akan mengonsumsi roti 52% lebih banyak daripada pengguna yang tidak membeli gula.\n",
    "- Korelasi mereka satu sama lain terlihat sebagai 1,75.\n",
    "\n",
    "Akibatnya, jika barang X dan Y lebih sering dibeli bersama, maka beberapa langkah dapat diambil untuk meningkatkan keuntungan. Contohnya:\n",
    "- Cross-Selling dapat ditingkatkan dengan menggabungkan produk\n",
    "- Tata letak toko dapat diubah sehingga penjualan dapat ditingkatkan ketika barang-barang tertentu disimpan bersama.\n",
    "- Kegiatan promosi yang merupakan kampanye periklanan dapat dilakukan untuk meningkatkan penjualan barang yang tidak dibeli oleh pelanggan.\n",
    "- Diskon kolektif dapat ditawarkan pada produk ini jika pelanggan membeli keduanya."
   ]
  },
  {
   "cell_type": "markdown",
   "id": "02307f18",
   "metadata": {},
   "source": [
    "#### Daftar Pustaka:"
   ]
  },
  {
   "cell_type": "markdown",
   "id": "349fa2fa",
   "metadata": {},
   "source": [
    "Afrida, S. (2021). Association Rules — Market Basket Analysis dengan Python. Diakses dari https://yandaafrida.medium.com/association-rule-market-basket-analysis-menggunakan-python-a9c49b4bfc69"
   ]
  },
  {
   "cell_type": "markdown",
   "id": "94ce0605",
   "metadata": {},
   "source": [
    "Torkan, M. (2020). Association Rules with Python. Diakses dari https://www.kaggle.com/code/mervetorkan/association-rules-with-python"
   ]
  },
  {
   "cell_type": "markdown",
   "id": "b2292d34",
   "metadata": {},
   "source": [
    "Jena, M. (2022). Association Rule Mining Simplified 101. Diakses dari https://hevodata.com/learn/association-rule-mining/"
   ]
  },
  {
   "cell_type": "markdown",
   "id": "a56f765b",
   "metadata": {},
   "source": [
    "Lutkevich, B. (n.d.). Association Rules. Diakses dari https://www.techtarget.com/searchbusinessanalytics/definition/association-rules-in-data-mining"
   ]
  },
  {
   "cell_type": "markdown",
   "id": "22817c3a",
   "metadata": {},
   "source": [
    "Chonyy. (2020). Apriori — Association Rule Mining In-depth Explanation and Python Implementation. Diakses dari https://towardsdatascience.com/apriori-association-rule-mining-explanation-and-python-implementation-290b42afdfc6"
   ]
  },
  {
   "cell_type": "markdown",
   "id": "b5690bc1",
   "metadata": {},
   "source": [
    "Malik, U. (2018). Association Rule Mining via Apriori Algorithm in Python. Diakses dari https://stackabuse.com/association-rule-mining-via-apriori-algorithm-in-python/"
   ]
  },
  {
   "cell_type": "markdown",
   "id": "f900ac28",
   "metadata": {},
   "source": [
    "Anisha, D. (2022). Association Rule. Diakses dari https://www.geeksforgeeks.org/association-rule/"
   ]
  },
  {
   "cell_type": "markdown",
   "id": "b6523c1c",
   "metadata": {},
   "source": [
    "Abhinav, R. (2022). An Overview of Association Rule Mining & its Applications. Diakses dari https://www.upgrad.com/blog/association-rule-mining-an-overview-and-its-applications/"
   ]
  },
  {
   "cell_type": "markdown",
   "id": "ad316f44",
   "metadata": {},
   "source": [
    "Fauzy, M., Rahmat, K., & Asror, I.. (2015). Penerapan Metode Association Rule Menggunakan Algoritma Apriori pada Simulasi\n",
    "Prediksi Hujan Wilayah Kota Bandung. e-Proceeding of Engineering, 2(3), 1-6. Diakses dari https://core.ac.uk/download/pdf/299905763.pdf"
   ]
  },
  {
   "cell_type": "markdown",
   "id": "72abba90",
   "metadata": {},
   "source": [
    "Shetty, S. (2022). What is Apriori Algorithm? Apriori Algorithm Explained. Diakses dari https://www.mygreatlearning.com/blog/apriori-algorithm-explained/"
   ]
  }
 ],
 "metadata": {
  "kernelspec": {
   "display_name": "Python 3",
   "language": "python",
   "name": "python3"
  },
  "language_info": {
   "codemirror_mode": {
    "name": "ipython",
    "version": 3
   },
   "file_extension": ".py",
   "mimetype": "text/x-python",
   "name": "python",
   "nbconvert_exporter": "python",
   "pygments_lexer": "ipython3",
   "version": "3.8.8"
  }
 },
 "nbformat": 4,
 "nbformat_minor": 5
}
